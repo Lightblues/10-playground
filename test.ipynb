{
 "cells": [
  {
   "cell_type": "markdown",
   "metadata": {},
   "source": [
    "## mysql\n",
    "\n"
   ]
  },
  {
   "cell_type": "code",
   "execution_count": null,
   "metadata": {},
   "outputs": [],
   "source": []
  },
  {
   "cell_type": "code",
   "execution_count": 1,
   "metadata": {},
   "outputs": [],
   "source": [
    "import mysql.connector"
   ]
  },
  {
   "cell_type": "code",
   "execution_count": 4,
   "metadata": {},
   "outputs": [],
   "source": [
    "config_mysql = {\n",
    "    \"host\": \"localhost\",\n",
    "    \"user\": \"syc\",\n",
    "    \"password\": \"syc\",\n",
    "    \"database\": \"douban\",\n",
    "}\n",
    "conn = mysql.connector.connect(**config_mysql)"
   ]
  },
  {
   "cell_type": "code",
   "execution_count": 5,
   "metadata": {},
   "outputs": [],
   "source": [
    "cursor = conn.cursor()"
   ]
  },
  {
   "cell_type": "code",
   "execution_count": 6,
   "metadata": {},
   "outputs": [
    {
     "data": {
      "text/plain": [
       "-1"
      ]
     },
     "execution_count": 6,
     "metadata": {},
     "output_type": "execute_result"
    }
   ],
   "source": [
    "query = \"SELECT * FROM book_raw WHERE url=%s\"\n",
    "cursor.execute(query, ('https://book.douban.com/subject/26752088/',))\n",
    "cursor.rowcount"
   ]
  },
  {
   "cell_type": "code",
   "execution_count": 17,
   "metadata": {},
   "outputs": [],
   "source": [
    "# cursor.close()\n",
    "# conn.close()"
   ]
  },
  {
   "cell_type": "code",
   "execution_count": 8,
   "metadata": {},
   "outputs": [],
   "source": [
    "conn.close()"
   ]
  },
  {
   "cell_type": "code",
   "execution_count": 9,
   "metadata": {},
   "outputs": [
    {
     "data": {
      "text/plain": [
       "['丛书', '\\xa0后浪·西语文学补完计划']"
      ]
     },
     "execution_count": 9,
     "metadata": {},
     "output_type": "execute_result"
    }
   ],
   "source": [
    "'丛书:\\xa0后浪·西语文学补完计划'.split(\":\")"
   ]
  },
  {
   "cell_type": "code",
   "execution_count": 1,
   "metadata": {},
   "outputs": [
    {
     "data": {
      "text/plain": [
       "'\\u3000'"
      ]
     },
     "execution_count": 1,
     "metadata": {},
     "output_type": "execute_result"
    }
   ],
   "source": [
    "u\"　\""
   ]
  },
  {
   "cell_type": "code",
   "execution_count": 12,
   "metadata": {},
   "outputs": [],
   "source": [
    "import pandas as pd\n",
    "book_tag_list = pd.read_csv('Spyder/2102-豆瓣爬虫/data/book/tag_book_list.csv', header=0)"
   ]
  },
  {
   "cell_type": "code",
   "execution_count": 13,
   "metadata": {},
   "outputs": [
    {
     "data": {
      "text/html": [
       "<div>\n",
       "<style scoped>\n",
       "    .dataframe tbody tr th:only-of-type {\n",
       "        vertical-align: middle;\n",
       "    }\n",
       "\n",
       "    .dataframe tbody tr th {\n",
       "        vertical-align: top;\n",
       "    }\n",
       "\n",
       "    .dataframe thead th {\n",
       "        text-align: right;\n",
       "    }\n",
       "</style>\n",
       "<table border=\"1\" class=\"dataframe\">\n",
       "  <thead>\n",
       "    <tr style=\"text-align: right;\">\n",
       "      <th></th>\n",
       "      <th>book_tag</th>\n",
       "      <th>title</th>\n",
       "      <th>book_id</th>\n",
       "      <th>infos</th>\n",
       "      <th>desc</th>\n",
       "      <th>book_url</th>\n",
       "    </tr>\n",
       "  </thead>\n",
       "  <tbody>\n",
       "    <tr>\n",
       "      <th>1600</th>\n",
       "      <td>政治</td>\n",
       "      <td>置身事内\\n\\n\\n    \\n       : 中国政府与经济发展</td>\n",
       "      <td>35546622</td>\n",
       "      <td>兰小欢 / 上海人民出版社 / 2021-8 / 65.00元</td>\n",
       "      <td>“在成功的经济体中，经济政策一定是务实的，不是意识形态化的。是具体的，不是抽象的。”\\n直面...</td>\n",
       "      <td>https://book.douban.com/subject/35546622/</td>\n",
       "    </tr>\n",
       "    <tr>\n",
       "      <th>1601</th>\n",
       "      <td>政治</td>\n",
       "      <td>政治学通识</td>\n",
       "      <td>26658395</td>\n",
       "      <td>包刚升 / 北京大学出版社 / 2015-11 / 49.00元</td>\n",
       "      <td>本书是作者在复旦大学政治学课程讲义的基础上修改润色而成的。本书力求成为一部通俗易懂、深入浅出...</td>\n",
       "      <td>https://book.douban.com/subject/26658395/</td>\n",
       "    </tr>\n",
       "    <tr>\n",
       "      <th>1602</th>\n",
       "      <td>政治</td>\n",
       "      <td>中国历代政治得失</td>\n",
       "      <td>1003479</td>\n",
       "      <td>钱穆 / 生活·读书·新知三联书店 / 2001 / 12.00元</td>\n",
       "      <td>《中国历代政治得失》为作者的专题演讲合集，分别就中国汉、唐、宋、明、清五代的政府组织、百官职...</td>\n",
       "      <td>https://book.douban.com/subject/1003479/</td>\n",
       "    </tr>\n",
       "    <tr>\n",
       "      <th>1603</th>\n",
       "      <td>政治</td>\n",
       "      <td>中国国家治理的制度逻辑\\n\\n\\n    \\n       : 一个组织学研究</td>\n",
       "      <td>26901114</td>\n",
       "      <td>周雪光 / 生活·读书·新知三联书店 / 2017-3-1 / 45.00元</td>\n",
       "      <td>关于中国国家的治理逻辑，本书主要沿着两条脉络进行探讨：一是中央权威与地方政府之间的关系，这体...</td>\n",
       "      <td>https://book.douban.com/subject/26901114/</td>\n",
       "    </tr>\n",
       "    <tr>\n",
       "      <th>1604</th>\n",
       "      <td>政治</td>\n",
       "      <td>论中国</td>\n",
       "      <td>26607419</td>\n",
       "      <td>[美] 亨利·基辛格 / 胡利平 / 中信出版社 / 2015-7 / 68.00元</td>\n",
       "      <td>《论中国》是美国前国务卿、“政坛常青树”亨利·基辛格一部中国问题专著。他以一位资深外交家和思...</td>\n",
       "      <td>https://book.douban.com/subject/26607419/</td>\n",
       "    </tr>\n",
       "    <tr>\n",
       "      <th>...</th>\n",
       "      <td>...</td>\n",
       "      <td>...</td>\n",
       "      <td>...</td>\n",
       "      <td>...</td>\n",
       "      <td>...</td>\n",
       "      <td>...</td>\n",
       "    </tr>\n",
       "    <tr>\n",
       "      <th>1795</th>\n",
       "      <td>政治</td>\n",
       "      <td>共同富裕\\n\\n\\n    \\n       : 科学内涵与实现路径</td>\n",
       "      <td>35684581</td>\n",
       "      <td>黄奇帆、厉以宁、刘世锦、蔡昉、等 / 中信出版社 / 2021-12 / 88</td>\n",
       "      <td>黄奇帆、厉以宁、刘世锦领衔之作！\\n扎实推动共同富裕·国家智库精选读本！\\n国务院发展研究中...</td>\n",
       "      <td>https://book.douban.com/subject/35684581/</td>\n",
       "    </tr>\n",
       "    <tr>\n",
       "      <th>1796</th>\n",
       "      <td>政治</td>\n",
       "      <td>2000年以来的西方</td>\n",
       "      <td>35373328</td>\n",
       "      <td>刘擎 / 一頁丨当代世界出版社 / 2021-4 / 98.00元</td>\n",
       "      <td>【编辑推荐】\\n特别值得读，国内没有第二个人能够写出来。\\n——陈嘉映\\n.\\n在过去的十八...</td>\n",
       "      <td>https://book.douban.com/subject/35373328/</td>\n",
       "    </tr>\n",
       "    <tr>\n",
       "      <th>1797</th>\n",
       "      <td>政治</td>\n",
       "      <td>联邦党人文集</td>\n",
       "      <td>1048930</td>\n",
       "      <td>汉密尔顿、杰伊、麦迪逊 / 程逢如 / 商务印书馆 / 1980 / 30.00元</td>\n",
       "      <td>本书作者为美国开国元勋汉密尔顿（1755或1757—1804）、杰伊（1745—1829）、...</td>\n",
       "      <td>https://book.douban.com/subject/1048930/</td>\n",
       "    </tr>\n",
       "    <tr>\n",
       "      <th>1798</th>\n",
       "      <td>政治</td>\n",
       "      <td>A Promised Land</td>\n",
       "      <td>35218075</td>\n",
       "      <td>Barack Obama / Crown / 2020-11-17 / USD 45.00</td>\n",
       "      <td>A riveting, deeply personal account of history...</td>\n",
       "      <td>https://book.douban.com/subject/35218075/</td>\n",
       "    </tr>\n",
       "    <tr>\n",
       "      <th>1799</th>\n",
       "      <td>政治</td>\n",
       "      <td>拉丁美洲被切开的血管</td>\n",
       "      <td>30335758</td>\n",
       "      <td>[乌拉圭] 爱德华多·加莱亚诺 / 王玫 等 / 南京大学出版社 / 2018-12 / 7...</td>\n",
       "      <td>★梁文道、刘瑜、熊培云、许知远联袂主编——“理想国译丛”（MIRROR）系列之一（033）—...</td>\n",
       "      <td>https://book.douban.com/subject/30335758/</td>\n",
       "    </tr>\n",
       "  </tbody>\n",
       "</table>\n",
       "<p>200 rows × 6 columns</p>\n",
       "</div>"
      ],
      "text/plain": [
       "     book_tag                                    title   book_id  \\\n",
       "1600       政治       置身事内\\n\\n\\n    \\n       : 中国政府与经济发展  35546622   \n",
       "1601       政治                                    政治学通识  26658395   \n",
       "1602       政治                                 中国历代政治得失   1003479   \n",
       "1603       政治  中国国家治理的制度逻辑\\n\\n\\n    \\n       : 一个组织学研究  26901114   \n",
       "1604       政治                                      论中国  26607419   \n",
       "...       ...                                      ...       ...   \n",
       "1795       政治       共同富裕\\n\\n\\n    \\n       : 科学内涵与实现路径  35684581   \n",
       "1796       政治                               2000年以来的西方  35373328   \n",
       "1797       政治                                   联邦党人文集   1048930   \n",
       "1798       政治                          A Promised Land  35218075   \n",
       "1799       政治                               拉丁美洲被切开的血管  30335758   \n",
       "\n",
       "                                                  infos  \\\n",
       "1600                    兰小欢 / 上海人民出版社 / 2021-8 / 65.00元   \n",
       "1601                   包刚升 / 北京大学出版社 / 2015-11 / 49.00元   \n",
       "1602                  钱穆 / 生活·读书·新知三联书店 / 2001 / 12.00元   \n",
       "1603             周雪光 / 生活·读书·新知三联书店 / 2017-3-1 / 45.00元   \n",
       "1604         [美] 亨利·基辛格 / 胡利平 / 中信出版社 / 2015-7 / 68.00元   \n",
       "...                                                 ...   \n",
       "1795            黄奇帆、厉以宁、刘世锦、蔡昉、等 / 中信出版社 / 2021-12 / 88   \n",
       "1796                  刘擎 / 一頁丨当代世界出版社 / 2021-4 / 98.00元   \n",
       "1797          汉密尔顿、杰伊、麦迪逊 / 程逢如 / 商务印书馆 / 1980 / 30.00元   \n",
       "1798      Barack Obama / Crown / 2020-11-17 / USD 45.00   \n",
       "1799  [乌拉圭] 爱德华多·加莱亚诺 / 王玫 等 / 南京大学出版社 / 2018-12 / 7...   \n",
       "\n",
       "                                                   desc  \\\n",
       "1600  “在成功的经济体中，经济政策一定是务实的，不是意识形态化的。是具体的，不是抽象的。”\\n直面...   \n",
       "1601  本书是作者在复旦大学政治学课程讲义的基础上修改润色而成的。本书力求成为一部通俗易懂、深入浅出...   \n",
       "1602  《中国历代政治得失》为作者的专题演讲合集，分别就中国汉、唐、宋、明、清五代的政府组织、百官职...   \n",
       "1603  关于中国国家的治理逻辑，本书主要沿着两条脉络进行探讨：一是中央权威与地方政府之间的关系，这体...   \n",
       "1604  《论中国》是美国前国务卿、“政坛常青树”亨利·基辛格一部中国问题专著。他以一位资深外交家和思...   \n",
       "...                                                 ...   \n",
       "1795  黄奇帆、厉以宁、刘世锦领衔之作！\\n扎实推动共同富裕·国家智库精选读本！\\n国务院发展研究中...   \n",
       "1796  【编辑推荐】\\n特别值得读，国内没有第二个人能够写出来。\\n——陈嘉映\\n.\\n在过去的十八...   \n",
       "1797  本书作者为美国开国元勋汉密尔顿（1755或1757—1804）、杰伊（1745—1829）、...   \n",
       "1798  A riveting, deeply personal account of history...   \n",
       "1799  ★梁文道、刘瑜、熊培云、许知远联袂主编——“理想国译丛”（MIRROR）系列之一（033）—...   \n",
       "\n",
       "                                       book_url  \n",
       "1600  https://book.douban.com/subject/35546622/  \n",
       "1601  https://book.douban.com/subject/26658395/  \n",
       "1602   https://book.douban.com/subject/1003479/  \n",
       "1603  https://book.douban.com/subject/26901114/  \n",
       "1604  https://book.douban.com/subject/26607419/  \n",
       "...                                         ...  \n",
       "1795  https://book.douban.com/subject/35684581/  \n",
       "1796  https://book.douban.com/subject/35373328/  \n",
       "1797   https://book.douban.com/subject/1048930/  \n",
       "1798  https://book.douban.com/subject/35218075/  \n",
       "1799  https://book.douban.com/subject/30335758/  \n",
       "\n",
       "[200 rows x 6 columns]"
      ]
     },
     "execution_count": 13,
     "metadata": {},
     "output_type": "execute_result"
    }
   ],
   "source": [
    "book_tag_list[book_tag_list['book_tag']=='政治']"
   ]
  },
  {
   "cell_type": "code",
   "execution_count": 14,
   "metadata": {},
   "outputs": [
    {
     "data": {
      "text/plain": [
       "社会学    200\n",
       "哲学     200\n",
       "文化     200\n",
       "历史     200\n",
       "社会     200\n",
       "政治     200\n",
       "心理学    200\n",
       "传记     200\n",
       "艺术     200\n",
       "Name: book_tag, dtype: int64"
      ]
     },
     "execution_count": 14,
     "metadata": {},
     "output_type": "execute_result"
    }
   ],
   "source": [
    "book_tag_list['book_tag'].value_counts()"
   ]
  },
  {
   "cell_type": "code",
   "execution_count": 15,
   "metadata": {},
   "outputs": [
    {
     "data": {
      "text/plain": [
       "array(['历史', '心理学', '哲学', '社会学', '传记', '文化', '艺术', '社会', '政治'],\n",
       "      dtype=object)"
      ]
     },
     "execution_count": 15,
     "metadata": {},
     "output_type": "execute_result"
    }
   ],
   "source": [
    "book_tag_list['book_tag'].unique()"
   ]
  },
  {
   "cell_type": "code",
   "execution_count": 16,
   "metadata": {},
   "outputs": [
    {
     "data": {
      "text/plain": [
       "30156802    1\n",
       "3163104     1\n",
       "30175059    1\n",
       "35721558    1\n",
       "1048922     1\n",
       "           ..\n",
       "26832573    1\n",
       "26696383    1\n",
       "35188501    1\n",
       "34813128    1\n",
       "35553279    1\n",
       "Name: book_id, Length: 200, dtype: int64"
      ]
     },
     "execution_count": 16,
     "metadata": {},
     "output_type": "execute_result"
    }
   ],
   "source": [
    "book_tag_list[book_tag_list['book_tag']=='政治']['book_id'].value_counts()"
   ]
  },
  {
   "cell_type": "markdown",
   "metadata": {},
   "source": [
    "## urlparse"
   ]
  },
  {
   "cell_type": "code",
   "execution_count": 8,
   "metadata": {},
   "outputs": [],
   "source": [
    "from urllib.parse import urlparse, urljoin"
   ]
  },
  {
   "cell_type": "code",
   "execution_count": 2,
   "metadata": {},
   "outputs": [],
   "source": [
    "parser = urlparse(\"https://www.xiaoyuzhoufm.com/episode/62a3739bb32f552f54730f2a?s=eyJ1IjogIjVlODFhMTg1MWJmYmJjM2RhZDg0YjA3MCJ9\")"
   ]
  },
  {
   "cell_type": "code",
   "execution_count": 3,
   "metadata": {},
   "outputs": [
    {
     "data": {
      "text/plain": [
       "ParseResult(scheme='https', netloc='www.xiaoyuzhoufm.com', path='/episode/62a3739bb32f552f54730f2a', params='', query='s=eyJ1IjogIjVlODFhMTg1MWJmYmJjM2RhZDg0YjA3MCJ9', fragment='')"
      ]
     },
     "execution_count": 3,
     "metadata": {},
     "output_type": "execute_result"
    }
   ],
   "source": [
    "parser"
   ]
  },
  {
   "cell_type": "code",
   "execution_count": 7,
   "metadata": {},
   "outputs": [
    {
     "data": {
      "text/plain": [
       "('', '/episode/62a3739bb32f552f54730f2a', 'www.xiaoyuzhoufm.com')"
      ]
     },
     "execution_count": 7,
     "metadata": {},
     "output_type": "execute_result"
    }
   ],
   "source": [
    "parser.params, parser.path, parser.hostname"
   ]
  },
  {
   "cell_type": "code",
   "execution_count": 9,
   "metadata": {},
   "outputs": [
    {
     "data": {
      "text/plain": [
       "'https://www.xiaoyuzhoufm.com/episode/62a3739bb32f552f54730f2a'"
      ]
     },
     "execution_count": 9,
     "metadata": {},
     "output_type": "execute_result"
    }
   ],
   "source": [
    "url = \"https://www.xiaoyuzhoufm.com/episode/62a3739bb32f552f54730f2a?s=eyJ1IjogIjVlODFhMTg1MWJmYmJjM2RhZDg0YjA3MCJ9\"\n",
    "urljoin(url, urlparse(url).path)"
   ]
  },
  {
   "cell_type": "code",
   "execution_count": 12,
   "metadata": {},
   "outputs": [
    {
     "data": {
      "text/plain": [
       "['a', 'c', 'e']"
      ]
     },
     "execution_count": 12,
     "metadata": {},
     "output_type": "execute_result"
    }
   ],
   "source": [
    "d = dict(zip(\"abcde\", range(10)))\n",
    "list(filter(lambda k: k in \"ace\", d))"
   ]
  },
  {
   "cell_type": "markdown",
   "metadata": {},
   "source": [
    "## RE"
   ]
  },
  {
   "cell_type": "code",
   "execution_count": 2,
   "metadata": {},
   "outputs": [
    {
     "data": {
      "text/plain": [
       "<re.Match object; span=(0, 4), match='1234'>"
      ]
     },
     "execution_count": 2,
     "metadata": {},
     "output_type": "execute_result"
    }
   ],
   "source": [
    "import re\n",
    "RE_INT = re.compile(r'(\\d+)')\n",
    "next(re.finditer(RE_INT, \"1234adfa789\"))"
   ]
  },
  {
   "cell_type": "code",
   "execution_count": 8,
   "metadata": {},
   "outputs": [
    {
     "data": {
      "text/plain": [
       "['1234', '789']"
      ]
     },
     "execution_count": 8,
     "metadata": {},
     "output_type": "execute_result"
    }
   ],
   "source": [
    "re.findall(RE_INT, \"1234adfa789\")"
   ]
  },
  {
   "cell_type": "markdown",
   "metadata": {},
   "source": [
    "## arXiv\n",
    "\n",
    "https://github.com/lukasschwab/arxiv.py\n",
    "pip install arxiv"
   ]
  },
  {
   "cell_type": "code",
   "execution_count": 13,
   "metadata": {},
   "outputs": [
    {
     "name": "stdout",
     "output_type": "stream",
     "text": [
      "The learnability of Pauli noise\n",
      "The unambiguous Lorentz-violating induced terms\n",
      "Null states from large superpositions of two-sided black holes\n",
      "Calibrating the classical hardness of the quantum approximate optimization algorithm\n",
      "Quantum behavior of a superconducting Duffing oscillator at the dissipative phase transition\n",
      "Wide-field magnetometry with nitrogen-vacancy centers in randomly oriented micro-diamonds\n",
      "The simplicial coalgebra of chains under three different notions of weak equivalence\n",
      "Polar Duality, John Ellipsoid, and Generalized Gaussians\n",
      "Nonlinear corrections in the quantization of a weakly nonideal Bose gas at zero temperature. II. The general case\n",
      "Delicate Superconductivity in NaAlGe Single Crystal\n"
     ]
    }
   ],
   "source": [
    "import arxiv\n",
    "\n",
    "search = arxiv.Search(\n",
    "  query = \"quantum\",\n",
    "  max_results = 10,\n",
    "  sort_by = arxiv.SortCriterion.SubmittedDate\n",
    ")\n",
    "\n",
    "for result in search.results():\n",
    "  print(result.title)"
   ]
  },
  {
   "cell_type": "code",
   "execution_count": 15,
   "metadata": {},
   "outputs": [
    {
     "name": "stdout",
     "output_type": "stream",
     "text": [
      "Long Document Re-ranking with Modular Re-ranker\n"
     ]
    }
   ],
   "source": [
    "search = arxiv.Search(id_list=[\"2205.04275\"])\n",
    "for paper in search.results(): # next(search.results())\n",
    "    print(paper.title)"
   ]
  },
  {
   "cell_type": "code",
   "execution_count": 17,
   "metadata": {},
   "outputs": [
    {
     "name": "stdout",
     "output_type": "stream",
     "text": [
      "http://arxiv.org/abs/2205.04275v2\n"
     ]
    }
   ],
   "source": [
    "print(paper)"
   ]
  },
  {
   "cell_type": "code",
   "execution_count": null,
   "metadata": {},
   "outputs": [],
   "source": []
  }
 ],
 "metadata": {
  "interpreter": {
   "hash": "c30f2af5f468e7f5b45bcc30fca5f4886c90d54777aed916ed5f6294dfb24bf2"
  },
  "kernelspec": {
   "display_name": "Python 3.9.5 ('base')",
   "language": "python",
   "name": "python3"
  },
  "language_info": {
   "codemirror_mode": {
    "name": "ipython",
    "version": 3
   },
   "file_extension": ".py",
   "mimetype": "text/x-python",
   "name": "python",
   "nbconvert_exporter": "python",
   "pygments_lexer": "ipython3",
   "version": "3.9.5"
  },
  "orig_nbformat": 4
 },
 "nbformat": 4,
 "nbformat_minor": 2
}

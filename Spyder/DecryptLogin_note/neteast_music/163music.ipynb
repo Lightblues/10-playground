{
 "cells": [
  {
   "cell_type": "markdown",
   "metadata": {},
   "source": [
    "参考了 DecryptLogin 案例中的 NeteaseSongListDownloader\n",
    "\n",
    "两个 bug\n",
    "1. 使用 getPlayListSongs 查看歌单列表的时候会卡着不动\n",
    "2. 下载歌曲的时候间或有 bug，用了 try 简单跳过了\n",
    "\n",
    "不知道这里 <https://yyrcd.com/n2s/> 用的是什么 API"
   ]
  },
  {
   "cell_type": "code",
   "execution_count": null,
   "metadata": {},
   "outputs": [],
   "source": [
    "import os\n",
    "import re\n",
    "import click\n",
    "import argparse\n",
    "import prettytable\n",
    "from contextlib import closing\n",
    "from DecryptLogin import login\n",
    "from DecryptLogin.modules.core.music163 import Cracker"
   ]
  },
  {
   "cell_type": "code",
   "execution_count": null,
   "metadata": {},
   "outputs": [],
   "source": [
    "username = ''\n",
    "password = ''"
   ]
  },
  {
   "cell_type": "code",
   "execution_count": null,
   "metadata": {},
   "outputs": [],
   "source": [
    "def login163(username, password):\n",
    "    lg = login.Login()\n",
    "    infos_return, session = lg.music163(username, password)\n",
    "    return infos_return.get('userid'), session\n",
    "\n",
    "userid, session = login163(username, password)"
   ]
  },
  {
   "cell_type": "code",
   "execution_count": null,
   "metadata": {},
   "outputs": [],
   "source": [
    "csrf = re.findall('__csrf=(.*?) for', str(session.cookies))[0]\n",
    "cracker = Cracker()\n",
    "headers = {\n",
    "    'user-agent': 'Mozilla/5.0 (Windows NT 10.0; Win64; x64) AppleWebKit/537.36 (KHTML, like Gecko) Chrome/79.0.3945.130 Safari/537.36'\n",
    "}"
   ]
  },
  {
   "cell_type": "code",
   "execution_count": null,
   "metadata": {},
   "outputs": [],
   "source": [
    "# csrf, session.cookies"
   ]
  },
  {
   "cell_type": "code",
   "execution_count": null,
   "metadata": {},
   "outputs": [],
   "source": [
    "import requests\n",
    "\n",
    "'''获得所有歌单'''\n",
    "def getPlayLists():\n",
    "  playlist_url = 'https://music.163.com/weapi/user/playlist?csrf_token='\n",
    "  playlists = []\n",
    "  offset = 0\n",
    "  while True:\n",
    "    data = {\n",
    "          \"offset\": offset,\n",
    "          \"uid\": userid,\n",
    "          \"limit\": 50,\n",
    "          \"csrf_token\": csrf\n",
    "        }\n",
    "    res = session.post(playlist_url+csrf, headers=headers, data=cracker.get(data), timeout=5)\n",
    "\n",
    "    playlists += res.json()['playlist']\n",
    "    offset += 1\n",
    "    if not res.json()['more'] == 'false':\n",
    "      break\n",
    "  all_playlists = {}\n",
    "  for item in playlists:\n",
    "    name = item.get('name')\n",
    "    track_count = item.get('trackCount')\n",
    "    play_count = item.get('playCount')\n",
    "    play_id = item.get('id')\n",
    "    if item.get('creator').get('userId') == userid:\n",
    "      attr = '我创建的歌单'\n",
    "    else:\n",
    "      attr = '我收藏的歌单'\n",
    "    all_playlists[str(play_id)] = [name, track_count, play_count, attr]\n",
    "  return all_playlists\n"
   ]
  },
  {
   "cell_type": "code",
   "execution_count": null,
   "metadata": {},
   "outputs": [],
   "source": [
    "all_playlists = getPlayLists()\n",
    "tb = prettytable.PrettyTable()\n",
    "tb.field_names = ['歌单ID', '歌单名', '歌曲数量', '播放次数', '歌单属性']\n",
    "for key, value in all_playlists.items():\n",
    "    tb.add_row([key]+value)\n",
    "print('您创建/收藏的所有歌单如下:')\n",
    "print(tb)"
   ]
  },
  {
   "cell_type": "code",
   "execution_count": null,
   "metadata": {},
   "outputs": [],
   "source": [
    "'''获得某歌单的所有歌曲信息'''\n",
    "import requests\n",
    "\n",
    "def getPlayListSongs( playlist_id, num_songs):\n",
    "    detail_url = 'https://music.163.com/weapi/v6/playlist/detail?csrf_token='\n",
    "    offset = 0\n",
    "    song_infos = {}\n",
    "    while True:\n",
    "        data = {\n",
    "            'id': playlist_id,\n",
    "            'offset': offset,\n",
    "            'total': True,\n",
    "            'limit': 1000,\n",
    "            'n': 1000,\n",
    "            'csrf_token': csrf\n",
    "        }\n",
    "        try:\n",
    "            res = session.post(detail_url+csrf, headers=headers, data=cracker.get(data), timeout=5)\n",
    "        except requests.exceptions.ConnectionError as e:\n",
    "            print(str(e))\n",
    "            return e\n",
    "\n",
    "        tracks = res.json()['playlist']['tracks']\n",
    "        for track in tracks:\n",
    "            name = track.get('name')\n",
    "            songid = track.get('id')\n",
    "            artists = ','.join([i.get('name') for i in track.get('ar')])\n",
    "            brs = [track.get('h')] + [track.get('m')] + [track.get('l')]\n",
    "            song_infos[songid] = [name, artists, brs]\n",
    "        offset += 1\n",
    "        if len(list(song_infos.keys())) >= num_songs:\n",
    "            break\n",
    "    return song_infos"
   ]
  },
  {
   "cell_type": "code",
   "execution_count": null,
   "metadata": {},
   "outputs": [],
   "source": [
    "# playlist_id, (playlist_name, playlist_len, play_times, playlist_type) = list(all_playlists.items())[0]\n",
    "# song_infos = getPlayListSongs(playlist_id, playlist_len)"
   ]
  },
  {
   "cell_type": "code",
   "execution_count": null,
   "metadata": {},
   "outputs": [],
   "source": [
    "# 导出所有歌单信息\n",
    "# def output_playlists():\n",
    "import json\n",
    "from tqdm import tqdm\n",
    "import time\n",
    "import signal\n",
    "\n",
    "playlist_info_list = []\n",
    "for playlist_id, (playlist_name, playlist_len, play_times, playlist_type) in tqdm(list(all_playlists.items())[35:]):\n",
    "    # time.sleep(3)\n",
    "    try:\n",
    "        song_infos = getPlayListSongs(playlist_id, playlist_len)\n",
    "    except Exception as e:\n",
    "        print(\"Error!!\", playlist_name, playlist_id)\n",
    "    playlist_i = {\n",
    "        \"id\": playlist_id, \n",
    "        \"name\": playlist_name, \n",
    "        \"len\": playlist_len, \n",
    "        \"times\": play_times, \n",
    "        \"type\": playlist_type,\n",
    "        \"songs\": song_infos\n",
    "    }\n",
    "    playlist_info_list.append(playlist_i)"
   ]
  },
  {
   "cell_type": "code",
   "execution_count": null,
   "metadata": {
    "collapsed": false,
    "pycharm": {
     "name": "#%%\n"
    }
   },
   "outputs": [],
   "source": [
    "list(all_playlists.items())[35]"
   ]
  },
  {
   "cell_type": "code",
   "execution_count": null,
   "metadata": {
    "collapsed": false,
    "pycharm": {
     "name": "#%%\n"
    }
   },
   "outputs": [],
   "source": [
    "playlist_info_list_ = [json.dumps(i, ensure_ascii=False) for i in playlist_info_list]\n",
    "fout = open('163music-mylist-2.json', 'w')\n",
    "for i in playlist_info_list_:\n",
    "    fout.write(i+'\\n')\n",
    "# fout.writelines(playlist_info_list_)\n",
    "# output_playlists()"
   ]
  },
  {
   "cell_type": "code",
   "execution_count": null,
   "metadata": {},
   "outputs": [],
   "source": [
    "# import json\n",
    "# json.dumps(playlist_info_list[0]['songs'], ensure_ascii=False)"
   ]
  },
  {
   "cell_type": "code",
   "execution_count": null,
   "metadata": {},
   "outputs": [],
   "source": [
    "# playlist_id = '75649888'\n",
    "# song_infos = getPlayListSongs(playlist_id, all_playlists[playlist_id][1])\n",
    "\n",
    "# 分离关联\n",
    "# playlist_id = '6764091275'\n",
    "# playlist_len = 20\n",
    "playlist_id = '5454637196'\n",
    "playlist_len = 20\n",
    "song_infos = getPlayListSongs(playlist_id, playlist_len)\n",
    "tb = prettytable.PrettyTable()\n",
    "tb.field_names = ['歌曲ID', '歌曲名', '歌手']\n",
    "for key, value in song_infos.items():\n",
    "    tb.add_row([key]+value[:-1])\n",
    "print('您输入的歌单ID为<%s>, 该歌单的所有歌曲信息如下:' % playlist_id)\n",
    "print(tb)"
   ]
  },
  {
   "cell_type": "code",
   "execution_count": null,
   "metadata": {},
   "outputs": [],
   "source": [
    "'''下载某首歌曲'''\n",
    "def downloadSong( songid, songname, brs, savepath='.'):\n",
    "    play_url = 'http://music.163.com/weapi/song/enhance/player/url?csrf_token='\n",
    "    print('正在下载 ——> %s' % songname)\n",
    "    for br in brs:\n",
    "        data = {\n",
    "            'ids': [songid],\n",
    "            'br': br.get('br'),\n",
    "            'csrf_token': csrf\n",
    "        }\n",
    "        res = session.post(play_url+csrf, headers=headers, data=cracker.get(data))\n",
    "        if res.json()['code'] == 200:\n",
    "            download_url = res.json()['data'][0].get('url', '')\n",
    "            if download_url:\n",
    "                break\n",
    "    with closing(session.get(download_url, headers=headers, stream=True, verify=False)) as res:\n",
    "        total_size = int(res.headers['content-length'])\n",
    "        if res.status_code == 200:\n",
    "            label = '[FileSize]:%0.2f MB' % (total_size/(1024*1024))\n",
    "            with click.progressbar(length=total_size, label=label) as progressbar:\n",
    "                with open(os.path.join(savepath, songname+'.'+download_url.split('.')[-1]), \"wb\") as f:\n",
    "                    for chunk in res.iter_content(chunk_size=1024):\n",
    "                        if chunk:\n",
    "                            f.write(chunk)\n",
    "                            progressbar.update(1024)"
   ]
  },
  {
   "cell_type": "code",
   "execution_count": null,
   "metadata": {},
   "outputs": [],
   "source": [
    "# savepath = all_playlists[playlist_id][0]\n",
    "import time\n",
    "savepath = \"『粤语』中山大学学子私藏港乐\"\n",
    "if not os.path.exists(savepath):\n",
    "    os.mkdir(savepath)\n",
    "for key, value in song_infos.items():\n",
    "    try:\n",
    "        downloadSong(key, value[0], value[-1], savepath)\n",
    "        # time.sleep(3)\n",
    "    except Exception as e:\n",
    "        print(\"Error!!\", str(e))\n",
    "print('歌单ID为<%s>中的所有歌曲下载完成, 保存在 ——> %s' % (playlist_id, savepath))"
   ]
  },
  {
   "cell_type": "code",
   "execution_count": null,
   "metadata": {},
   "outputs": [],
   "source": [
    "list(song_infos.items())[0]"
   ]
  },
  {
   "cell_type": "code",
   "execution_count": null,
   "metadata": {},
   "outputs": [],
   "source": [
    "len(list(song_infos.items()))"
   ]
  },
  {
   "cell_type": "code",
   "execution_count": null,
   "metadata": {},
   "outputs": [],
   "source": []
  }
 ],
 "metadata": {
  "interpreter": {
   "hash": "51f9a97eb3dda597f1369cc31b6245f9d647417f0d13c8d6c139867508e694a8"
  },
  "kernelspec": {
   "display_name": "Python 3.8.8 ('base')",
   "language": "python",
   "name": "python3"
  },
  "language_info": {
   "codemirror_mode": {
    "name": "ipython",
    "version": 3
   },
   "file_extension": ".py",
   "mimetype": "text/x-python",
   "name": "python",
   "nbconvert_exporter": "python",
   "pygments_lexer": "ipython3",
   "version": "3.8.8"
  },
  "orig_nbformat": 4
 },
 "nbformat": 4,
 "nbformat_minor": 2
}

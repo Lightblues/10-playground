{
 "cells": [
  {
   "cell_type": "markdown",
   "metadata": {},
   "source": [
    "在微博上搜索“新闻传播\"得到的第一页用户\n",
    "(<https://s.weibo.com/user?q=%E6%96%B0%E9%97%BB%E4%BC%A0%E6%92%AD&Refer=weibo_user>）, 爬取他们的微博名称、ID、头像、粉丝数、关注数和最近的五条微博。\n",
    "\n",
    "要求:\n",
    "1. 第一部分：请在 notebook 中示范第一个用户的爬取过程: print 出第一个用户的微博 名称、ID、头像、粉丝数、关注数和最近五条微博的文字, 并在 notebook 中保留你的 print 展示结果。\n",
    "2. 第二部分：请在 notebook 附上代码, 包括（1）从搜索“新闻传播”页面如何获取各个 用户页面链接；(2) 爬取各个用户数据；(3) 存储为线下数据。不需要上传你的数 据。"
   ]
  },
  {
   "cell_type": "markdown",
   "metadata": {},
   "source": [
    "## Part 1"
   ]
  },
  {
   "cell_type": "code",
   "execution_count": 1,
   "metadata": {},
   "outputs": [
    {
     "name": "stderr",
     "output_type": "stream",
     "text": [
      "/var/folders/0d/wrwj7yfx09v64hfgjstksh4r0000gn/T/ipykernel_17204/2376712958.py:4: DeprecationWarning: executable_path has been deprecated, please pass in a Service object\n",
      "  browser = webdriver.Chrome(\"/Users/frankshi/Downloads/chromedriver\")\n"
     ]
    }
   ],
   "source": [
    "from selenium import webdriver\n",
    "from selenium.webdriver.common.by import By\n",
    "\n",
    "browser = webdriver.Chrome(\"/Users/frankshi/Downloads/chromedriver\")"
   ]
  },
  {
   "cell_type": "code",
   "execution_count": 46,
   "metadata": {},
   "outputs": [],
   "source": [
    "browser.get(\"https://s.weibo.com/user?q=%E6%96%B0%E9%97%BB%E4%BC%A0%E6%92%AD&Refer=weibo_user\")"
   ]
  },
  {
   "cell_type": "code",
   "execution_count": 47,
   "metadata": {},
   "outputs": [],
   "source": [
    "# first user\n",
    "# class=\"card card-user-b s-brt1 card-user-b-padding\"\n",
    "first_user = browser.find_element(By.CLASS_NAME, \"card-user-b-padding\")"
   ]
  },
  {
   "cell_type": "code",
   "execution_count": 48,
   "metadata": {},
   "outputs": [],
   "source": [
    "first_user_info = first_user.find_element(by=By.CLASS_NAME, value='info')"
   ]
  },
  {
   "cell_type": "code",
   "execution_count": 49,
   "metadata": {},
   "outputs": [
    {
     "data": {
      "text/plain": [
       "'新闻传播学研'"
      ]
     },
     "execution_count": 49,
     "metadata": {},
     "output_type": "execute_result"
    }
   ],
   "source": [
    "# name\n",
    "first_user_info.find_element(By.TAG_NAME, \"div\").text\n"
   ]
  },
  {
   "cell_type": "code",
   "execution_count": 50,
   "metadata": {},
   "outputs": [
    {
     "name": "stdout",
     "output_type": "stream",
     "text": [
      "互联网科技博主\n",
      "粉丝：28.4万\n"
     ]
    }
   ],
   "source": [
    "# desc, #fans\n",
    "ps = first_user_info.find_elements(By.TAG_NAME, \"p\")\n",
    "print(ps[0].text)\n",
    "print(ps[1].text)"
   ]
  },
  {
   "cell_type": "code",
   "execution_count": 51,
   "metadata": {},
   "outputs": [
    {
     "name": "stdout",
     "output_type": "stream",
     "text": [
      "https://tvax1.sinaimg.cn/crop.0.0.667.667.180/cf44774dly8fmwb8sr8kmj20ij0ijmy9.jpg?KID=imgbed,tva&Expires=1648027658&ssig=XHR6FMB%2FVX\n"
     ]
    }
   ],
   "source": [
    "# avatar\n",
    "first_user_avatar_src = first_user.find_element(By.CLASS_NAME, \"avator\")\\\n",
    "    .find_element(By.TAG_NAME, \"img\").get_attribute(\"src\")\n",
    "print(first_user_avatar_src)"
   ]
  },
  {
   "cell_type": "code",
   "execution_count": 52,
   "metadata": {},
   "outputs": [
    {
     "data": {
      "text/html": [
       "<img src=\"https://tvax1.sinaimg.cn/crop.0.0.667.667.180/cf44774dly8fmwb8sr8kmj20ij0ijmy9.jpg?KID=imgbed,tva&Expires=1648027658&ssig=XHR6FMB%2FVX\"/>"
      ],
      "text/plain": [
       "<IPython.core.display.Image object>"
      ]
     },
     "execution_count": 52,
     "metadata": {},
     "output_type": "execute_result"
    }
   ],
   "source": [
    "# avatar\n",
    "from IPython.display import Image\n",
    "Image(url=first_user_avatar_src) "
   ]
  },
  {
   "cell_type": "code",
   "execution_count": 53,
   "metadata": {},
   "outputs": [
    {
     "name": "stdout",
     "output_type": "stream",
     "text": [
      "https://weibo.com/276441151\n",
      "276441151\n"
     ]
    }
   ],
   "source": [
    "first_user_link = first_user.find_element(By.TAG_NAME, \"a\").get_attribute(\"href\")\n",
    "print(first_user_link)\n",
    "\n",
    "# id\n",
    "print(first_user_link.split(\"/\")[-1])"
   ]
  },
  {
   "cell_type": "code",
   "execution_count": 27,
   "metadata": {},
   "outputs": [],
   "source": [
    "# browsing the first user's page\n",
    "\n",
    "browser.get(first_user_link)"
   ]
  },
  {
   "cell_type": "code",
   "execution_count": 28,
   "metadata": {},
   "outputs": [
    {
     "name": "stdout",
     "output_type": "stream",
     "text": [
      "10\n"
     ]
    }
   ],
   "source": [
    "# tweets\n",
    "tweets = browser.find_elements(By.CLASS_NAME, \"detail_wbtext_4CRf9\")\n",
    "print(len(tweets))"
   ]
  },
  {
   "cell_type": "code",
   "execution_count": 30,
   "metadata": {},
   "outputs": [
    {
     "name": "stdout",
     "output_type": "stream",
     "text": [
      "#数研图说# 几点睡觉算熬夜？网页链接 \n",
      "--------------------\n",
      "#研之有道# 【韦璋婷、陈洁｜网络语境下标签“# ”的人际语用研究】互联网为语言表达与人际交往提供了新平台，除了日益更新的网络词汇，标签“# ”也逐渐成为人际交往中重要的助推因素。作为一种社交标签，“# ”不仅能够实现基本的搜索功能，还在人际交往中实现特定的语用功能……\n",
      "——\n",
      "下载:   ...展开\n",
      "--------------------\n",
      "#研读# 年轻人越来越不喜欢发语音了？ \n",
      "--------------------\n",
      "一个可以听国内外频道的在线广播：网页链接 \n",
      "--------------------\n",
      "#数研图说# 数据线SJX：一图看懂波音737-800 \n",
      "--------------------\n",
      "#研之有道# 【袁靖华、童威楠｜“影子种族主义”：国际新闻中的话语霸权再生产】本文以话语理论分析为研究路径，观察2016-2020年《华尔街日报》的涉华科技报道，从微观话语、 符号资本、意识形态三个层面，递进研究了媒体经济利益和政府舆论动员在针对中国的科技遏制战中的同谋关系及实现机制，深入揭  ...展开\n",
      "--------------------\n",
      "#研读# 国产剧里的中女形象 \n",
      "--------------------\n",
      "中国科学院心理研究所肖震宇：社恐真的是病吗？生命时报的微博视频 \n",
      "--------------------\n",
      "#研之有道# 【互动与满足：B站ACG亚文化群体认同风格与行为动因分析】 B站ACG亚文化传播群体以年轻的学子为主，他们愿意为亚文化产品付出时间与经济成本，且具有创作、分享热情；B站关注小众亚文化群体喜好，创造独特的弹幕、热评、互动视频等风格化符号吸引受众，并通过小众内容生态、叛逆话语表达为  ...展开\n",
      "--------------------\n",
      "【转发赠书✨】央视驻外记者刘骁骞新作《飓风掠过蔗田：一个中国记者的古巴见闻录》，历时六年，九赴古巴，深度调查报道，在亲历卡斯特罗逝世、奥巴马访古、美古复交等诸多历史事件的同时，试图记录下古巴的社会气氛和人的状态……\n",
      "👉🏻3.28从转发的朋友中抽2位各送一本@微博抽奖平台    ...展开\n",
      "--------------------\n"
     ]
    }
   ],
   "source": [
    "for tweet in tweets:\n",
    "    print(tweet.text)\n",
    "    print(\"-\"*20)"
   ]
  },
  {
   "cell_type": "code",
   "execution_count": 32,
   "metadata": {},
   "outputs": [
    {
     "name": "stdout",
     "output_type": "stream",
     "text": [
      "2\n"
     ]
    }
   ],
   "source": [
    "# class=\"ALink_none_1w6rm ProfileHeader_alink_tjHJR\"\n",
    "fans = browser.find_elements(By.CLASS_NAME, \"ProfileHeader_alink_tjHJR\")\n",
    "print(len(fans))"
   ]
  },
  {
   "cell_type": "code",
   "execution_count": 33,
   "metadata": {},
   "outputs": [
    {
     "name": "stdout",
     "output_type": "stream",
     "text": [
      "粉丝28.4万\n",
      "关注424\n"
     ]
    }
   ],
   "source": [
    "# number of follwers and following\n",
    "for f in fans:\n",
    "    print(f.text)"
   ]
  },
  {
   "cell_type": "markdown",
   "metadata": {},
   "source": [
    "## Part 2"
   ]
  },
  {
   "cell_type": "code",
   "execution_count": 34,
   "metadata": {},
   "outputs": [],
   "source": [
    "user_list_page = \"https://s.weibo.com/user?q=%E6%96%B0%E9%97%BB%E4%BC%A0%E6%92%AD&Refer=weibo_user\"\n",
    "browser.get(user_list_page)\n",
    "# 存储用户信息, id2dict\n",
    "users = {}"
   ]
  },
  {
   "cell_type": "code",
   "execution_count": 35,
   "metadata": {},
   "outputs": [],
   "source": [
    "page_users = browser.find_elements(By.CLASS_NAME, \"card-user-b-padding\")\n",
    "for user in page_users:\n",
    "    user_info = user.find_element(By.CLASS_NAME, \"info\")\n",
    "    user_name = user_info.find_element(By.TAG_NAME, \"div\").text\n",
    "    user_link = user.find_element(By.TAG_NAME, \"a\").get_attribute(\"href\")\n",
    "    user_id = user_link.split(\"/\")[-1]\n",
    "    user_avatar_src = user.find_element(By.CLASS_NAME, \"avator\")\\\n",
    "        .find_element(By.TAG_NAME, \"img\").get_attribute(\"src\")\n",
    "    user_dict = {\n",
    "        \"name\": user_name,\n",
    "        \"id\": user_id,\n",
    "        \"link\": user_link,\n",
    "        \"avatar\": user_avatar_src\n",
    "    }\n",
    "    users[user_id] = user_dict"
   ]
  },
  {
   "cell_type": "code",
   "execution_count": 38,
   "metadata": {},
   "outputs": [
    {
     "name": "stdout",
     "output_type": "stream",
     "text": [
      "dict_keys(['276441151', '3321496530', 'xinchuantuoxiege', 'cuhkcom', 'gxusjc', '6510250937', '5461853682', '1003763994', 'zhouyijun', 'fudanzhangzhian', '1896697435', 'lixinpin', 'chenchangfeng', 'rost', '5579586356', 'fanyijin', '3101525961', '2610806555', '313123969', 'dujunfei'])\n"
     ]
    }
   ],
   "source": [
    "print(users.keys())"
   ]
  },
  {
   "cell_type": "code",
   "execution_count": 39,
   "metadata": {},
   "outputs": [
    {
     "name": "stdout",
     "output_type": "stream",
     "text": [
      "{'name': '新闻传播学研', 'id': '276441151', 'link': 'https://weibo.com/276441151', 'avatar': 'https://tvax1.sinaimg.cn/crop.0.0.667.667.180/cf44774dly8fmwb8sr8kmj20ij0ijmy9.jpg?KID=imgbed,tva&Expires=1648026677&ssig=MO8uHNHWxx'}\n"
     ]
    }
   ],
   "source": [
    "print(users['276441151'])"
   ]
  },
  {
   "cell_type": "code",
   "execution_count": 43,
   "metadata": {},
   "outputs": [
    {
     "name": "stdout",
     "output_type": "stream",
     "text": [
      "276441151\n",
      "3321496530\n",
      "xinchuantuoxiege\n",
      "cuhkcom\n",
      "gxusjc\n",
      "6510250937\n",
      "5461853682\n",
      "1003763994\n",
      "zhouyijun\n",
      "fudanzhangzhian\n",
      "1896697435\n",
      "lixinpin\n",
      "chenchangfeng\n",
      "rost\n",
      "5579586356\n",
      "fanyijin\n",
      "3101525961\n",
      "2610806555\n",
      "313123969\n",
      "dujunfei\n"
     ]
    }
   ],
   "source": [
    "from selenium.webdriver.support.ui import WebDriverWait\n",
    "\n",
    "def update_info(user_id):\n",
    "    if \"tweets\" in users[user_id]:\n",
    "        return\n",
    "    url = users[user_id]['link']\n",
    "    browser.get(url)\n",
    "    # 隐式等待\n",
    "    browser.implicitly_wait(10)\n",
    "    nums = browser.find_elements(By.CLASS_NAME, \"ProfileHeader_alink_tjHJR\")\n",
    "    users[user_id]['followers'] = nums[0].text\n",
    "    users[user_id]['followings'] = nums[1].text\n",
    "    tweets = browser.find_elements(By.CLASS_NAME, \"detail_wbtext_4CRf9\")\n",
    "    tweets = [t.text for t in tweets]\n",
    "    users[user_id]['tweets'] = tweets\n",
    "    return\n",
    "\n",
    "for id in users.keys():\n",
    "    print(id)\n",
    "    update_info(id)"
   ]
  },
  {
   "cell_type": "code",
   "execution_count": 44,
   "metadata": {},
   "outputs": [],
   "source": [
    "# 保存结果\n",
    "with open(\"users.json\", \"w\") as f:\n",
    "    import json\n",
    "    json.dump(users, f, ensure_ascii=False, indent=4)"
   ]
  },
  {
   "cell_type": "code",
   "execution_count": 54,
   "metadata": {},
   "outputs": [
    {
     "name": "stdout",
     "output_type": "stream",
     "text": [
      "{\n",
      "    \"276441151\": {\n",
      "        \"name\": \"新闻传播学研\",\n",
      "        \"id\": \"276441151\",\n",
      "        \"link\": \"https://weibo.com/276441151\",\n",
      "        \"avatar\": \"https://tvax1.sinaimg.cn/crop.0.0.667.667.180/cf44774dly8fmwb8sr8kmj20ij0ijmy9.jpg?KID=imgbed,tva&Expires=1648026677&ssig=MO8uHNHWxx\",\n",
      "        \"followers\": \"粉丝28.4万\",\n",
      "        \"followings\": \"关注424\",\n",
      "        \"tweets\": [\n",
      "            \"#数研图说# 几点睡觉算熬夜？网页链接 \",\n",
      "            \"#研之有道# 【韦璋婷、陈洁｜网络语境下标签“# ”的人际语用研究】互联网为语言表达与人际交往提供了新平台，除了日益更新的网络词汇，标签“# ”也逐渐成为人际交往中重要的助推因素。作为一种社交标签，“# ”不仅能够实现基本的搜索功能，还在人际交往中实现特定的语用功能……\\n——\\n下载:   ...展开\",\n",
      "            \"#研读# 年轻人越来越不喜欢发语音了？ \",\n",
      "            \"一个可以听国内外频道的在线广播：网页链接 \",\n",
      "            \"#数研图说# 数据线SJX：一图看懂波音737-800 \",\n",
      "            \"#研之有道# 【袁靖华、童威楠｜“影子种族主义”：国际新闻中的话语霸权再生产】本文以话语理论分析为研究路径，观察2016-2020年《华尔街日报》的涉华科技报道，从微观话语、 符号资本、意识形态三个层面，递进研究了媒体经济利益和政府舆论动员在针对中国的科技遏制战中的同谋关系及实现机制，深入揭  ...展开\"\n",
      "        ]\n",
      "    },\n",
      "    \"3321496530\": {\n",
      "        \"name\": \"夏日之阳新闻传播考研\",\n",
      "        \"id\": \"3321496530\",\n",
      "        \"link\": \"https://weibo.com/u/3321496530\",\n",
      "        \"avatar\": \"https://tvax1.sinaimg.cn/crop.0.0.828.828.180/c5fa03d2ly8gqdtet5gwuj20n00n0go6.jpg?KID=imgbed,tva&Expires=1648026677&ssig=aES1Ro3S9H\",\n",
      "        \"followers\": \"粉丝36.7万\",\n",
      "        \"followings\": \"关注1558\",\n",
      "        \"tweets\": [\n",
      "            \"中传考研超话👉 2022专硕材料评议分数及涨幅情况（图一）\\n👉 2021专硕材料评议分数（图二） \",\n",
      "            \"中传考研超话中传材料评议线出来了。\\n意外又不意外的是，很多同学被打了低分。\\n所以闲话休说，这里请大家帮忙，一起做两件事情。\\n第一是请大家务必【填写下面的问卷】，我们一起搞明白，各个学院到底是以何种评判标准，来定哪些同学应该进复试。\\n第二是请大家务必【及时转发问卷】，诗歌将尽可能快  ...展开\",\n",
      "            \"新传考研超话中传材料评议线出来了。\\n意外又不意外的是，很多同学被打了低分。\\n所以闲话休说，这里请大家帮忙，一起做两件事情。\\n第一是请大家务必填写下面的问卷，我们一起搞明白，各个学院到底是以何种评判标准，来定哪些同学应该进复试。\\n第二是请大家务必及时转发问卷，诗歌将尽可能快的给大家  ...展开\",\n",
      "            \"中传考研超话中传材料评议线出来了。\\n意外又不意外的是，很多同学被打了低分。\\n所以闲话休说，这里请大家帮忙，一起做两件事情。\\n第一是请大家务必填写下面的问卷，我们一起搞明白，各个学院到底是以何种评判标准，来定哪些同学应该进复试。\\n第二是请大家务必及时转发问卷，诗歌将尽可能快的给大家  ...展开\",\n",
      "            \"新传考研超话中传考研超话中传出了！师哥将在半小时内直播，指路『微信夏日之阳考研视频号』#中传考研# \\n\\n#中传复试线# #中传材料评议# \",\n",
      "            \"\",\n",
      "            \"\"\n",
      "        ]\n",
      "    },\n",
      "    \"xinchuantuoxiege\": {\n",
      "        \"name\": \"新闻传播考研真题与真相\",\n",
      "        \"id\": \"xinchuantuoxiege\",\n",
      "        \"link\": \"https://weibo.com/xinchuantuoxiege\",\n",
      "        \"avatar\": \"https://tva2.sinaimg.cn/crop.4.4.265.265.180/edfe4737gw1eg81j6wm3bj20b407jt9l.jpg?KID=imgbed,tva&Expires=1648026677&ssig=F7zEBmTVD1\",\n",
      "        \"followers\": \"粉丝20.3万\",\n",
      "        \"followings\": \"关注123\",\n",
      "        \"tweets\": [\n",
      "            \"【第7场公益模拟面试来啦~复试前来鞋厂体验心跳加速的感觉！】\\n\\n卷花此微博（不是评）\\n抽两位幸运小可爱参加公益模拟面试\\n3月23日12:00开\\n3月24日14:00，鞋厂公益模拟面试等你\\n\\n#和拖鞋哥一起学新闻传播# 第7场公益模拟面试来啦~复试前来鞋厂体验心跳加速的感觉！  抽奖详情 \",\n",
      "            \"恭喜@下一个2月29 等2名用户获得【公益模拟面试】。微博官方唯一抽奖工具@微博抽奖平台 对本次抽奖进行监督，结果公正有效。公示链接：网页链接\",\n",
      "            \"【第7场公益模拟面试来啦~复试前来鞋厂体验心跳加速的感觉！】\\n\\n卷花此微博（不是评）\\n抽两位幸运小可爱参加公益模拟面试\\n3月23日12:00开\\n3月24日14:00，鞋厂公益模拟面试等你\\n\\n#和拖鞋哥一起学新闻传播# 第7场公益模拟面试来啦~复试前来鞋厂体验心跳加速的感觉！  抽奖详情 \",\n",
      "            \"【还没确定要考哪个学校？鞋厂23择校课将于3月23日正式起航！】\\n\\n择校课第一波——华北地区重磅来袭：\\n从3月25号到3月27号，我们将进行华北地区的分院校择校课，将会持续三天，共涉及21所院校\\n\\n#和拖鞋哥一起学新闻传播# \\n  \",\n",
      "            \"\",\n",
      "            \"\",\n",
      "            \"\"\n",
      "        ]\n",
      "    },\n",
      "    \"cuhkcom\": {\n",
      "        \"name\": \"香港中文大学新闻与传播学院\",\n",
      "        \"id\": \"cuhkcom\",\n",
      "        \"link\": \"https://weibo.com/cuhkcom\",\n",
      "        \"avatar\": \"https://tva4.sinaimg.cn/crop.0.46.1312.1312.180/9c194900gw1e9fxmq2mfdj210l135grf.jpg?KID=imgbed,tva&Expires=1648026677&ssig=xtKBu53u8b\",\n",
      "        \"followers\": \"粉丝2.6万\",\n",
      "        \"followings\": \"关注122\",\n",
      "        \"tweets\": [\n",
      "            \"C-Seminar Series - CSR and Beyond: Directions in Social Impact Communications Research - Prof. Eric Haley\\n\\nDate: Wednesday, 6 April 2022\\nTime: 11:00am – 12:00nn\\nVenue: ZOOM meeting room\\n\\nPlease register via this link: 网页链接 by 12:00nn, Tuesday, 5 April 2022. \",\n",
      "            \"C-Seminar Series - Algorithmic Precarity: Managing the (In)Visibility Regimes of Metrics in the Gig Economy - Prof. Oliver Ngai Keung Chan\\n\\nDate: Friday, 25 February 2022\\nTime: 10:00am – 11:00am\\nVenue: ZOOM meeting room\\n\\nPlease register via this link: 网页链接 by 12:  ...展开\",\n",
      "            \"本院將於2022年1月21日（星期五）上午9時至10時30分舉辦「香港中文大學新聞與傳播學院大中華訪問學者講座」。我們非常榮幸邀請台灣政治大學李金銓教授發表題為「邁向國際/跨文化傳播的路徑」的線上講座。如有興趣，請於2022年1月18日或以前登入此網址報名：网页链接 \",\n",
      "            \"本院將於2022年1月21日（星期五）至22日（星期六）舉辦「新冠疫情與傳媒」線上工作坊，我們邀請了二十二位學者出席工作坊及發表演講。如對新冠疫情、信息疫情與傳媒相關議題有興趣，請於2022年1月15日或以前登入此網址報名： 网页链接。\\n\\nYou are invited to attend the online workshop e  ...展开\",\n",
      "            \"\",\n",
      "            \"\"\n",
      "        ]\n",
      "    },\n",
      "    \"gxusjc\": {\n",
      "        \"name\": \"广西大学新闻与传播学院\",\n",
      "        \"id\": \"gxusjc\",\n",
      "        \"link\": \"https://weibo.com/gxusjc\",\n",
      "        \"avatar\": \"https://tvax4.sinaimg.cn/crop.0.0.996.996.180/70e1d9bely8gdimkz3hvcj20ro0ro76k.jpg?KID=imgbed,tva&Expires=1648026677&ssig=Va97bvLxjw\",\n",
      "        \"followers\": \"粉丝3万\",\n",
      "        \"followings\": \"关注207\",\n",
      "        \"tweets\": [\n",
      "            \"座谈会期间，刘洪老师以诗词的方式表达了对郑老师的感激和敬佩之情。全诗内容如下：\\n\\n最（醉）高楼·保卫先生\\n       保卫先生，矢志新闻学。人大学、事业成。学界业界撷精华，理论硕果誉华夏。几番改，几番闯，几番成。\\n       马新观、响彻大中华。正能量、助力民族兴。古稀年，进八桂。科研积累献西  ...展开\",\n",
      "            \"我院实力歌手潘乐给你带来精彩巨献 \",\n",
      "            \"十大歌手火热进行中，快来给你喜爱的歌手打call吧！ \",\n",
      "            \"祝祖国生日快乐！ \",\n",
      "            \"#祝新中国生日快乐#【今日，此刻，一起转发这条微博！祝福祖国！🇨🇳】今天，#中华人民共和国成立72周年#，今天，14亿中华儿女为你庆生！一起传递写下你的祝福吧！祖国，我爱你！ \",\n",
      "            \"你们报道，我们护航！#西大迎新进行时# \",\n",
      "            \"\"\n",
      "        ]\n",
      "    },\n",
      "    \"6510250937\": {\n",
      "        \"name\": \"新闻传播学bot\",\n",
      "        \"id\": \"6510250937\",\n",
      "        \"link\": \"https://weibo.com/u/6510250937\",\n",
      "        \"avatar\": \"https://tvax2.sinaimg.cn/crop.0.0.828.828.180/0076AlFnly8gdv7eps0xij30n00n00ti.jpg?KID=imgbed,tva&Expires=1648026677&ssig=pYbLHbkI5f\",\n",
      "        \"followers\": \"粉丝2.3万\",\n",
      "        \"followings\": \"关注591\",\n",
      "        \"tweets\": [\n",
      "            \"//@我想我正在沉入一代人的海:确实是，温州动车事故中，我采访了几位家属和好友，都很愿意说，愿意倾诉的人，有他们的理由。不知道为什么现在很多网络营销号，或者压根没做过记者的，想当然地叫嚷着维护家属权利，他们并没有接触家属——集体加入封锁新闻的队伍。\",\n",
      "            \"事故家属并没有外界想象中脆弱，跑过突发的记者都知道，很多家属有主动向媒体倾诉悲伤、倾诉疑惑的需求，也有表达愤怒、通过媒体向责任方施压的需求。\\n事故家属是有行为能力的个体，他们可以拒绝采访（事实上也有很多人会这么做），也可以主动与媒体合作。不要以同情和所谓正义之名，夺走他们的合理合  ...展开\",\n",
      "            \"转发\",\n",
      "            \"网络讲座预告\\n\\n评论区更新可通过线上观看的学术讲座，包括时间和题目，过时删除，欢迎投稿。 \",\n",
      "            \"//@nyouyou:值得细读\",\n",
      "            \"抗疫两年以来最困难的时期，是漫长冬夜还是倒春寒？\\n \\n抗疫两年多，全国同心协力，拒病毒于国门之外，维持了非常低的感染率与病死率。但是春节过后，先是香港迅速进入了第五波疫情，从1例病例破防到全面失控也仅仅用了1个多月。这波奥密克戎BA.2 速度很快，内地和香港大多数都是这一株。\\n \\n国内这波疫  ...展开\",\n",
      "            \"//@陈迪Winston:有价值的实验\",\n",
      "            \"上午做了一个网络调查，想看看信息污染的浓度。\\n题目是这张“乌克兰战争受害者的照片”（图2）是真是假？\\n\\n截至3月12日晚上11：03，差不多正好12个小时。根据目前所知道的信息，303人选择这张照片是真实的乌克兰战争受害者照片；158人选择这是过去煤气爆炸事故受伤者的照片；97人选择是演员扮演的；669  ...展开\",\n",
      "            \"人是什么？人是生物学与社会学意义上的各种信息的总和。在这个意义上，保护至关重要的个人信息，不仅仅是维护个人安全之所必须，更是每个人安放自己人格、尊严与灵魂的内在呼唤。一个透明人，何以为人？\\n\\n——《赋权“为脸做主”，捍卫人的尊严》\\n（原载于2021年11月18日《南方周末》） \",\n",
      "            \"\",\n",
      "            \"\"\n",
      "        ]\n",
      "    },\n",
      "    \"5461853682\": {\n",
      "        \"name\": \"中国军视网\",\n",
      "        \"id\": \"5461853682\",\n",
      "        \"link\": \"https://weibo.com/u/5461853682\",\n",
      "        \"avatar\": \"https://tvax2.sinaimg.cn/crop.28.73.950.950.180/005XDnEely8glmnbb9fdaj30sg0sgmy6.jpg?KID=imgbed,tva&Expires=1648026677&ssig=1xdmADpyz7\",\n",
      "        \"followers\": \"粉丝627万\",\n",
      "        \"followings\": \"关注317\",\n",
      "        \"tweets\": [\n",
      "            \"【俄总统新闻秘书佩斯科夫：只有生存受到威胁时俄才会使用核武器】俄罗斯总统新闻秘书佩斯科夫22日在接受美国有线电视新闻网采访时表示，俄罗斯在乌克兰的特别军事行动是一场“有着严肃目标的严肃行动”，没有人认为仅需要几天时间就能完成。佩斯科夫表示，俄罗斯只有在生存受到威胁的情况下才会使用核  ...展开\",\n",
      "            \"【#泽连斯基将在北约峰会发表视频讲话#】乌总统泽连斯基的发言人当地时间22日晚表示，泽连斯基可能将以视频连线的方式出席24日在布鲁塞尔举行的北约峰会。“如果无法实时在线全程参与峰会”，泽连斯基也将发表视频讲话。 #国防军事早报# 中国军视网的微博视频 \",\n",
      "            \"【MU5735坠机事故最新情况：#武警消防民兵等600余人连夜搜寻黑匣子#】22日下午，现场参与救援的搜救力量接到现场联合指挥部通知，协助事故调查组专家进入核心区域全力搜救，在加紧进行人员搜救的同时，继续开展针对失事客机黑匣子的搜寻工作。昨晚有包括消防、武警、民兵在内的600人左右的搜救力量进行  ...展开\",\n",
      "            \"【“天宫课堂”第二课今天下午开讲！太空授课课程表来了】“天宫课堂”第二课将于15时40分在中国空间站开讲，（神舟十三号乘组航天员翟志刚、王亚平、叶光富将相互配合进行授课。这也是中国航天员第三次进行太空授课。课程表来啦！↓↓↓ #国防军事早报# 中国军视网的微博视频 \",\n",
      "            \"\",\n",
      "            \"\"\n",
      "        ]\n",
      "    },\n",
      "    \"1003763994\": {\n",
      "        \"name\": \"喻国明\",\n",
      "        \"id\": \"1003763994\",\n",
      "        \"link\": \"https://weibo.com/u/1003763994\",\n",
      "        \"avatar\": \"https://tvax2.sinaimg.cn/crop.0.0.512.512.180/3bd4391aly8fpn6vnygw4j20e80e8jrr.jpg?KID=imgbed,tva&Expires=1648026677&ssig=q%2B6c3MJl5B\",\n",
      "        \"followers\": \"粉丝381.3万\",\n",
      "        \"followings\": \"关注1010\",\n",
      "        \"tweets\": []\n",
      "    },\n",
      "    \"zhouyijun\": {\n",
      "        \"name\": \"阿忆\",\n",
      "        \"id\": \"zhouyijun\",\n",
      "        \"link\": \"https://weibo.com/zhouyijun\",\n",
      "        \"avatar\": \"https://tvax3.sinaimg.cn/crop.0.0.1010.1010.180/48dcce8ely8gfab6sv00hj20s20s2dhr.jpg?KID=imgbed,tva&Expires=1648026677&ssig=q7YTCTg5TT\",\n",
      "        \"followers\": \"粉丝185.7万\",\n",
      "        \"followings\": \"关注283\",\n",
      "        \"tweets\": [\n",
      "            \"我回答了@一朵开过尚盈盈 的问题,问题价值￥680.00,大家快来花1元围观。    \",\n",
      "            \"我回答了 @憨厚的LIAN3399 的问题，问题价值￥678.00，大家快来花1元围观。  \",\n",
      "            \"我回答了 @公民KANE 的问题，问题价值￥678.00，大家快来花1元围观。  \"\n",
      "        ]\n",
      "    },\n",
      "    \"fudanzhangzhian\": {\n",
      "        \"name\": \"张志安\",\n",
      "        \"id\": \"fudanzhangzhian\",\n",
      "        \"link\": \"https://weibo.com/fudanzhangzhian\",\n",
      "        \"avatar\": \"https://tvax1.sinaimg.cn/crop.33.43.416.416.180/634a7ffbly8ge06fum94ij20dw0kuthz.jpg?KID=imgbed,tva&Expires=1648026677&ssig=gsPxzG6EUR\",\n",
      "        \"followers\": \"粉丝73.2万\",\n",
      "        \"followings\": \"关注2376\",\n",
      "        \"tweets\": [\n",
      "            \"【考研问题请勿私信我】同学，请不要私信问我考研复试等相关问题。复试线，要等学校划定。不同方向排名，只是参考。如果感觉进入复试问题不大，就好好准备；如果感觉有点悬，建议同步留意调剂机会。再说一遍：我不是招生负责人，有问题可用公开联络方式电话咨询。\",\n",
      "            \"【一位考研生的热泪为何引发关注】其一，考研成绩发布，社会有关注的热度和时效；其二，考研越来越激烈甚至“内卷”，初试成绩好、大家能共情；其三，讨论政治科目成绩等，“过来人”谈感受，带动不少参与表达。 #女生考研420分排名专业第1哭半小时# #新媒体素养# \",\n",
      "            \"飞机上遭遇空难的孩子//@禅宗七祖://@翟呈群律师: //@DearestCatastrophe:轉發\",\n",
      "            \"哭了 \",\n",
      "            \"【祝福|@红星新闻 5周岁生日快乐！】从1994年@成都商报 发行，到2017年@红星新闻 上线，过去20多时间，成都商报-红星新闻不断地顺应媒介技术的变革和传播业态的发展，在实践领域探索创新。过去5年，红星新闻不俗表现体现在：内容的移动化传播、视频的视觉化生产、运营的智能化探索，成为了在新媒体和全  ...展开\",\n",
      "            \"确实，资深新媒体社区传媒创始人\",\n",
      "            \"我正在申请微博认证，认证信息为“媒体人”。请@M麦子姚 @韩图图图 @邓华金-齐家网 @杨轶清 @尚贞涛 @张志安 转发此条微博帮我确认身份，多谢！！  \",\n",
      "            \"\",\n",
      "            \"\",\n",
      "            \"\"\n",
      "        ]\n",
      "    },\n",
      "    \"1896697435\": {\n",
      "        \"name\": \"展江\",\n",
      "        \"id\": \"1896697435\",\n",
      "        \"link\": \"https://weibo.com/u/1896697435\",\n",
      "        \"avatar\": \"https://tva4.sinaimg.cn/crop.0.0.180.180.180/710d4e5bjw1e8qgp5bmzyj2050050aa8.jpg?KID=imgbed,tva&Expires=1648026677&ssig=szvLOmczzo\",\n",
      "        \"followers\": \"粉丝113.8万\",\n",
      "        \"followings\": \"关注1269\",\n",
      "        \"tweets\": [\n",
      "            \"几天前湖北监利外卖小哥王静见一85岁老人落水奋不顾身施救，不幸双双遇难，令人无比哀痛。王静不识水性，撇下不能自理父母和妻子女儿，社会应大力帮助其家庭。为避免再度发生1＋1悲剧，可借鉴古希腊先哲亚里斯多德伦理学：美德存在于两个极端之间。应鼓励有能力者见义勇为。 \",\n",
      "            \"朝鲜人朱贤健服刑期间越狱，再次挑战中国法律，必须予以加刑惩戒，让他在原关押监狱长期服刑。 \",\n",
      "            \"刚才看央视《法制在线》，安徽潜山交警对初次违停车主教育而不罚款扣分，赞扬此种柔性执法。接着又看北京台《红绿灯》节目，一农民开轻型卡车装载超尺寸轻抛货，共5项违法被罚850元扣5分，不知跑这一趟能挣多少钱。 \",\n",
      "            \"山西遇上罕见秋季大洪水，受灾面很大，可是多方人士指出，引发的全国关注度远远低于之前的河南水灾。建议微博加标志：关切山西灾情。 \",\n",
      "            \"中午央视《今日说法》说，经过三年整治，山西省打掉黑恶组织和团伙1600多个，涉案资金400多亿，闻之着实吃了一惊。 \",\n",
      "            \"转发微博\",\n",
      "            \"该账号因被投诉违反法律法规和《微博社区公约》的相关规定，现已无法查看。查看帮助 网页链接\",\n",
      "            \"东奥闭幕式，央视解说员把“会当击水三千里”念成了“会当水击……” \",\n",
      "            \"真没想到，几年前印象中的小伙子周筱赟，转眼都快46岁了。好久不见，十分想念。 \",\n",
      "            \"如果各路消息准确，郑州和河南一些地方遭受可能是有史以来难得一见的暴雨灾害。河南省外许多人在关注、揪心。请河南卫视停播抗日神剧，而转为紧急状态，滚动播放救灾新闻。  \"\n",
      "        ]\n",
      "    },\n",
      "    \"lixinpin\": {\n",
      "        \"name\": \"李欣频\",\n",
      "        \"id\": \"lixinpin\",\n",
      "        \"link\": \"https://weibo.com/lixinpin\",\n",
      "        \"avatar\": \"https://tva4.sinaimg.cn/crop.0.3.750.750.180/4e2dce56jw8f9pq7x9s76j20ku0l0abe.jpg?KID=imgbed,tva&Expires=1648026677&ssig=OD8pcFcZyL\",\n",
      "        \"followers\": \"粉丝26.8万\",\n",
      "        \"followings\": \"关注126\",\n",
      "        \"tweets\": [\n",
      "            \"看到这则新闻很难过，希望大家都平安\",\n",
      "            \"#东航坠毁航班上共132人#【#民航局应急机制启动#】今日，东航一架波音737客机在执行昆明——广州航班任务时，于梧州上空失联。目前，已确认该飞机坠毁。机上人员共132人，其中旅客123人、机组9人。民航局已启动应急机制，派出工作组赶赴现场。#一架客机在广西藤县发生事故#东航一架波音737飞机坠毁民航局已启动应急机制   ...展开\",\n",
      "            \"森林市集在春分 \",\n",
      "            \"有不少人过着朝九晚五，日复一日的生活\\n想改变又觉得受限于工作时间、工作空间\\n  \\n但在我看来，每个人都可以开启多重人生\\n打造一个精彩到不想跟任何人交换的人生\\n  \\n今天就和大家分享，我自己是如何做到的\\n希望对每一位都有所启发和帮助！\\n  \\n也欢迎你留言给我，分享自己的多重人生~\\n\\n李欣频超话  ...展开\",\n",
      "            \"\",\n",
      "            \"\",\n",
      "            \"\"\n",
      "        ]\n",
      "    },\n",
      "    \"chenchangfeng\": {\n",
      "        \"name\": \"陈昌凤\",\n",
      "        \"id\": \"chenchangfeng\",\n",
      "        \"link\": \"https://weibo.com/chenchangfeng\",\n",
      "        \"avatar\": \"https://tva4.sinaimg.cn/crop.0.0.640.640.180/6fe88531jw8edte6z3uzhj20hs0hsdgl.jpg?KID=imgbed,tva&Expires=1648026677&ssig=YwJqTe5G%2B6\",\n",
      "        \"followers\": \"粉丝402.9万\",\n",
      "        \"followings\": \"关注635\",\n",
      "        \"tweets\": [\n",
      "            \"推动科技向善、造福人类，实现高水平科技自立自强\\n中共中央办公厅 国务院办公厅印发《关于加强科技伦理治理的意见》\\n \",\n",
      "            \"“人类之后 未来之前”第三届媒介物质性论坛议程\\n\\n火热的前沿研究！[强]\\n3.25-27，清华大学 \",\n",
      "            \"两会中的“清新”人\\n\\n每年两会期间，清华大学新闻与传播学院的院友们，都活跃在采访报道的一线[强][玫瑰] \",\n",
      "            \"借着全国首批哲学社会科学实验室的东风，清华大学新闻与传播学院正在加速建设“未来媒体实验室”\\n\\n计算传播学与智能媒体实验室提速建设 为全国首批文科实验室贡献力量 \",\n",
      "            \"清华大学计算社会科学与国家治理实验室，祝贺成为教育部首批哲学社会科学实验室[强]🎉🎈\\n我们的计算传播学与智能媒体实验室位列其中🎉👏 \",\n",
      "            \"智能媒体月报||俄乌冲突中的信息核查/视障人群看到图像 \",\n",
      "            \"智能月报||智能假脸比真脸更受信任，深度伪造，隐私\\n\\n人类对AI生成的人脸的信任程度，超过了真实人脸？ \"\n",
      "        ]\n",
      "    },\n",
      "    \"rost\": {\n",
      "        \"name\": \"新媒沈阳\",\n",
      "        \"id\": \"rost\",\n",
      "        \"link\": \"https://weibo.com/rost\",\n",
      "        \"avatar\": \"https://tvax4.sinaimg.cn/crop.124.284.711.711.180/6284c191ly8gk08oh5wwej20qo0zkwli.jpg?KID=imgbed,tva&Expires=1648026677&ssig=h%2BljPvQOVh\",\n",
      "        \"followers\": \"粉丝103.1万\",\n",
      "        \"followings\": \"关注2038\",\n",
      "        \"tweets\": [\n",
      "            \"工业元宇宙和工业互联网在线沙龙，今天九点四十五，腾讯会议ID：198-528-595 \",\n",
      "            \"“清华新闻学院新媒体研究中心”联合“南京江宁高新区管委会”召开的“元宇宙XR发展在线沙龙”将于明天3月13日上午9:45开始 。腾讯会议会议号：991-241-396 \",\n",
      "            \"周日上午“清华新闻学院新媒体研究中心”联合“南京江宁高新区管委会”召开“元宇宙XR发展在线沙龙” \",\n",
      "            \"目前在元宇宙硬件VR产品市场占有率，中国对美国的差距远大于手机的差距。按其中一种口径：美国Meta的销量在1000万套左右，中国市场占有率最高的PICO在50万套左右，这是20倍的差距。另一种口径：Meta Quest全球市场占有率超过70%，Pico约为6%，这是11.6倍差距 \",\n",
      "            \"转发微博\",\n",
      "            \"【#元宇宙是要打造一个虚拟世界吗#】#元宇宙不仅仅是虚拟世界# 眼下，“元宇宙”成为全球最火爆的名词之一，但其概念却让人有些捉摸不透。清华大学新闻与传播学院教授沈阳表示，元宇宙有三层含义：①把目前的互联网从二维升级到三维；②自然人、虚拟人和机器人的三者联动；③通过经济规则的调整，实现  ...展开\",\n",
      "            \"\"\n",
      "        ]\n",
      "    },\n",
      "    \"5579586356\": {\n",
      "        \"name\": \"第一军视\",\n",
      "        \"id\": \"5579586356\",\n",
      "        \"link\": \"https://weibo.com/u/5579586356\",\n",
      "        \"avatar\": \"https://tvax1.sinaimg.cn/crop.0.0.996.996.180/0065Bnikly8glmnrr2wclj30ro0roq3l.jpg?KID=imgbed,tva&Expires=1648026677&ssig=HBcBIJCs5r\",\n",
      "        \"followers\": \"粉丝95万\",\n",
      "        \"followings\": \"关注165\",\n",
      "        \"tweets\": [\n",
      "            \"狙击手是怎样炼成的？鸡蛋钢钉都不在话下  #我为中国军人点赞# 第一军视的微博视频 \",\n",
      "            \"【轮式装甲突击车分队，雨雾山地条件下实弹射击考核】近日，陆军第73集团军某合成旅在粤东某训练场组织所属轮式装甲分队展开实弹射击考核，检验部队在雨雾、山地等复杂条件下的综合火力打击能力。（记者：赵亚雄 刘朋 胡宁 陈利 任虹胤 剪辑：郭淑楠）#我为中国军人点赞#  第一军视的微博视频 \",\n",
      "            \"“陆战之王”在怒吼！围观装甲分队的战斗射击 #我为中国军人点赞# 第一军视的微博视频 \",\n",
      "            \"震撼到尖叫！记者近距离体验地空导弹发射瞬间#军事纪实##我为中国军人点赞# 第一军视的微博视频 \",\n",
      "            \"\",\n",
      "            \"\"\n",
      "        ]\n",
      "    },\n",
      "    \"fanyijin\": {\n",
      "        \"name\": \"范以锦\",\n",
      "        \"id\": \"fanyijin\",\n",
      "        \"link\": \"https://weibo.com/fanyijin\",\n",
      "        \"avatar\": \"https://tva2.sinaimg.cn/crop.0.0.180.180.180/4fd63e02jw1e8qgp5bmzyj2050050aa8.jpg?KID=imgbed,tva&Expires=1648026677&ssig=TOXiH%2B4Sf%2F\",\n",
      "        \"followers\": \"粉丝172.8万\",\n",
      "        \"followings\": \"关注1452\",\n",
      "        \"tweets\": [\n",
      "            \"己转发\",\n",
      "            \"抱歉，由于作者设置，你暂时没有这条微博的查看权限哦。查看帮助：网页链接 \",\n",
      "            \"#虎年第一条微博#除夕钟声已敲响，祝各位亲朋好友虎年大吉，合家幸福，新的一年如虎添翼，虎虎有生气。 \",\n",
      "            \"#明叔的本真人生#您好 \",\n",
      "            \"伴随除夕钟声牛年到，祝福各位身体棒棒哒，牛气十足、牛运亨通，事业如日中天。 \",\n",
      "            \"鼠年钟声敲响，恭祝各位亲朋好友节日快乐，新的一年平安顺遂，万事如意！ \",\n",
      "            \"暨南大学新闻与传播学院毕业生、南都原首席记者、时尚领域头部K0L黎贝卡出书了。 \",\n",
      "            \"今天广州到梅州5个多小时，基本顺畅！ \",\n",
      "            \"转发微博\",\n",
      "            \"人生不是漫步，是要赶路😄这几天我走了多少路？纪录是一天35里[捂脸]保存下来激励自己😂 美国·纽约 \",\n",
      "            \"\"\n",
      "        ]\n",
      "    },\n",
      "    \"3101525961\": {\n",
      "        \"name\": \"营养师王思露\",\n",
      "        \"id\": \"3101525961\",\n",
      "        \"link\": \"https://weibo.com/u/3101525961\",\n",
      "        \"avatar\": \"https://tvax3.sinaimg.cn/crop.0.0.512.512.180/b8dd87c9ly8gmg1ji7atmj20e80e8dfy.jpg?KID=imgbed,tva&Expires=1648026677&ssig=9VId8n3TdQ\",\n",
      "        \"followers\": \"粉丝95.6万\",\n",
      "        \"followings\": \"关注398\",\n",
      "        \"tweets\": [\n",
      "            \" \",\n",
      "            \"#樱桃# 取一对心形的深红色黑珍珠甜樱桃，两颗樱桃悄悄连接，果敢翠绿，成双成对，肉嘟嘟的透着股性感劲儿。牙齿轻咬，浓郁的汁水迅速在唇间爆开，翻涌着冲击舌面，咀嚼间嫩滑果肉带来一波又一波猛烈的酸甜攻势，任谁都无法招架。#王思露科普时间#  网页链接 \",\n",
      "            \"7985人，一场直播，一次付出，同时也是一次“收获”。\\n\\n江山父老能容我，不使人间造孽钱。 \",\n",
      "            \"#王思露科普时间# 啥是假巧克力？啥是真巧克力？\\n\\n巧克力的定义是以可可制品（可可脂、可可块或可可液块/巧克力浆、可可油饼、可可粉）和（或）白砂糖为主要原料，添加或不添加乳制品、食品添加剂，经特定工艺制成的在常温下保持固体或半固体状态的食品。\\n\\n代可可脂巧克力的定义是以白砂糖、代可可脂等  ...展开\",\n",
      "            \"#怎么吃蒜最健康# 大蒜，是在张骞出塞时传入我国，并且在东汉时期开始被人们普遍种植，最早是作为调味品出现。在唐宋以后开始成为家常蔬菜。\\n\\n自从大蒜来到餐桌上，它就因其独特的味道而备受追捧或者嗤之以鼻。关于蒜，您知道的并不完全…#王思露科普时间#   \",\n",
      "            \"一个学食品的营养师，必然可以成长为一个厨子和一个茶者… \",\n",
      "            \"\"\n",
      "        ]\n",
      "    },\n",
      "    \"2610806555\": {\n",
      "        \"name\": \"邹振东\",\n",
      "        \"id\": \"2610806555\",\n",
      "        \"link\": \"https://weibo.com/u/2610806555\",\n",
      "        \"avatar\": \"https://tva4.sinaimg.cn/crop.0.0.180.180.180/9b9dbf1bjw1e8qgp5bmzyj2050050aa8.jpg?KID=imgbed,tva&Expires=1648026677&ssig=mX6ZmfJUnU\",\n",
      "        \"followers\": \"粉丝35.3万\",\n",
      "        \"followings\": \"关注337\",\n",
      "        \"tweets\": [\n",
      "            \"看#电影四海# 想起我从前写过的一首歌词：\\n\\n《宇宙的起源是小镇》\\n\\n邹振东\\n\\n每一个小镇\\n都有一家电影院\\n如今却没有了\\n看电影的人\\n看电影的人\\n都到哪里去了\\n人们说他们\\n都去了城中村\\n\\n每一个小镇\\n都有一个女生\\n羞红的脸\\n抿紧的唇\\n每一次相逢\\n都在梦里\\n每一次分别\\n都在凌晨\\n\\n宇宙的起源是小镇\\n青春 青春   ...展开\",\n",
      "            \"恭喜@_双木槿 1名用户获得【考研大礼包】。微博官方唯一抽奖工具@微博抽奖平台 对本次抽奖进行监督，结果公正有效。公示链接：网页链接\",\n",
      "            \"据说可以抽奖，不抽白不抽！不过，也可以忽略@微博校园 寻找2021幸运考研er，助力升学梦想！关注@微博校园 @邹振东 ，带话题#为考研加油# 转发本条微博，并@ 3位好友，12月26日抽一位幸运同学送出考研大礼包，助力考研上岸成功！  抽奖详情 \",\n",
      "            \"据说可以抽奖，不抽白不抽！不过，也可以忽略@微博校园 寻找2021幸运考研er，助力升学梦想！关注@微博校园 @邹振东 ，带话题#为考研加油# 转发本条微博，并@ 3位好友，12月26日抽一位幸运同学送出考研大礼包，助力考研上岸成功！  抽奖详情 \",\n",
      "            \"浙江卫健委在健康码管理上是中国最荒唐的省份，服务热线电话的服务也最差！@健康浙江 @浙江发布 \",\n",
      "            \"\",\n",
      "            \"\",\n",
      "            \"\"\n",
      "        ]\n",
      "    },\n",
      "    \"313123969\": {\n",
      "        \"name\": \"郭庆光_人语天声\",\n",
      "        \"id\": \"313123969\",\n",
      "        \"link\": \"https://weibo.com/313123969\",\n",
      "        \"avatar\": \"https://tvax4.sinaimg.cn/crop.0.0.1125.1125.180/67d4b4d4ly8fokun0qwu2j20v90v9ad7.jpg?KID=imgbed,tva&Expires=1648026677&ssig=nSoRLpKTud\",\n",
      "        \"followers\": \"粉丝45.7万\",\n",
      "        \"followings\": \"关注1468\",\n",
      "        \"tweets\": [\n",
      "            \"北京初冬，乍寒还暖。玩冰钓的人多起来了。 Droopy（鲁比）的快手视频 \",\n",
      "            \"我家有条帅气的比格，英文名Droopy,中文名鲁比，小名叫猪皮//@吴巢:要把养狗列入计划了\",\n",
      "            \"抱歉，作者已设置仅展示半年内微博，此微博已不可见。 \",\n",
      "            \"图文并茂的一本好书，正在拜读， 谢谢凯雷赠阅//@王君超:看到了蓝衣服和灰衣服——理论是灰色的， 郭老师的灰衣代表学术界 //@凯雷:哈哈，图九是蓝衣服，她好好的，在朋友圈轨迹正常\",\n",
      "            \"作为黄埔后代，我主编《致敬：不能忘记的抗战老兵》一书6月正式发行，第一本样书送给@郭庆光_人语天声 教授。\\n     校友讲坛 《直击两会20年，新闻报道实战》，没想到当年任新闻学院院长的郭老师亲自主持，让我很紧张；我讲红衣服蓝衣服，突然发现有网信办主管官员，让我更紧张，视频也坏了，郭老师出  ...展开\",\n",
      "            \"@凯雷来人大授课效果甚佳，欢迎再来//@王君超:㊗️贺！诺奖拿定了\",\n",
      "            \"没有到晚宴告别，我已确信：今日最佳真的已经诞生【恩向文保证不再让他凌晨起床】——这也将是半岛诺贝尔奖得主最生动、最接地气、最具魅力、最说人话的金句表达，这句话从传播学观察，意义已经包涵并超越了首脑联合声明。@樱洛小叶@程曼丽@王君超@木兰老农 @郭庆光_人语天声@彩色菜帝@陈昌凤  ...展开\",\n",
      "            \"\",\n",
      "            \"\",\n",
      "            \"\",\n",
      "            \"\"\n",
      "        ]\n",
      "    },\n",
      "    \"dujunfei\": {\n",
      "        \"name\": \"杜骏飞\",\n",
      "        \"id\": \"dujunfei\",\n",
      "        \"link\": \"https://weibo.com/dujunfei\",\n",
      "        \"avatar\": \"https://tvax3.sinaimg.cn/crop.0.0.1080.1080.180/594436ffly8gsth9ik1atj20u00u0gph.jpg?KID=imgbed,tva&Expires=1648026677&ssig=VDLTIFE4vR\",\n",
      "        \"followers\": \"粉丝14.2万\",\n",
      "        \"followings\": \"关注233\",\n",
      "        \"tweets\": [\n",
      "            \"在这样一个世界里，愿所有人祝福所有人\\n\\n \",\n",
      "            \"也因此，观察民意、处理“舆情”的人，一定要懂得：每逢网络暴力事件，真正的民意，永远不是那喧闹的一小部分，而是沉默的大部分。 \",\n",
      "            \"#刘学州# 为什么“善良的人那么多，你却没能再坚持一下。”——因为，人们往往并不知道，在网络言论的大海上，极少的恶总是更善于兴风作浪，而无尽的善，总是沉默地藏在海水下。\",\n",
      "            \"#刘学州# 刘学州遗体已于今日在三亚火化，其亲生父母未到场！一路走好台湾井事的微博视频 \",\n",
      "            \"记住2022年的他们。我们来自他们，我们可能是他们，我们也要为了他们。\\n\\n \",\n",
      "            \"#新京报# 请把摘录带给《新京报》，尤其是第13条:\\n\\n \",\n",
      "            \"#给2022捎个话# 2022，祝福所有人\\n\\n \"\n",
      "        ]\n",
      "    }\n",
      "}\n"
     ]
    }
   ],
   "source": [
    "# 直接输出\n",
    "s = json.dumps(users, ensure_ascii=False, indent=4)\n",
    "print(s)"
   ]
  },
  {
   "cell_type": "code",
   "execution_count": null,
   "metadata": {},
   "outputs": [],
   "source": []
  }
 ],
 "metadata": {
  "interpreter": {
   "hash": "51f9a97eb3dda597f1369cc31b6245f9d647417f0d13c8d6c139867508e694a8"
  },
  "kernelspec": {
   "display_name": "Python 3.8.8 ('base')",
   "language": "python",
   "name": "python3"
  },
  "language_info": {
   "codemirror_mode": {
    "name": "ipython",
    "version": 3
   },
   "file_extension": ".py",
   "mimetype": "text/x-python",
   "name": "python",
   "nbconvert_exporter": "python",
   "pygments_lexer": "ipython3",
   "version": "3.8.8"
  },
  "orig_nbformat": 4
 },
 "nbformat": 4,
 "nbformat_minor": 2
}

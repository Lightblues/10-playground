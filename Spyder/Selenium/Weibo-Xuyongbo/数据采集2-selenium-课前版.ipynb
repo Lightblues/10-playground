{
 "cells": [
  {
   "cell_type": "markdown",
   "metadata": {
    "slideshow": {
     "slide_type": "slide"
    }
   },
   "source": [
    "##  Selenium\n",
    "selenium 是一套完整的web应用程序测试系统，包含了\n",
    "- 测试的录制（selenium IDE）\n",
    "- 编写及运行（Selenium Remote Control）\n",
    "- 测试的并行处理（Selenium Grid）。\\\n",
    "https://www.selenium.dev/zh-cn/documentation/overview/ \n",
    "\n"
   ]
  },
  {
   "cell_type": "markdown",
   "metadata": {},
   "source": [
    "### 安装 selenium\n",
    "pip install -U selenium\\\n",
    "https://pypi.org/project/selenium/"
   ]
  },
  {
   "cell_type": "markdown",
   "metadata": {
    "slideshow": {
     "slide_type": "subslide"
    }
   },
   "source": [
    "## Webdriver 驱动\n",
    "用python写爬虫的时候，主要用的是selenium的Webdriver，我们可以通过下面的方式先看看Selenium.Webdriver支持哪些浏览器\n",
    "\n"
   ]
  },
  {
   "cell_type": "code",
   "execution_count": 1,
   "metadata": {
    "ExecuteTime": {
     "end_time": "2018-04-28T03:29:26.906157Z",
     "start_time": "2018-04-28T03:29:26.816353Z"
    },
    "slideshow": {
     "slide_type": "fragment"
    }
   },
   "outputs": [],
   "source": [
    "from selenium import webdriver"
   ]
  },
  {
   "cell_type": "code",
   "execution_count": 2,
   "metadata": {
    "slideshow": {
     "slide_type": "subslide"
    }
   },
   "outputs": [
    {
     "name": "stdout",
     "output_type": "stream",
     "text": [
      "Help on package selenium.webdriver in selenium:\n",
      "\n",
      "NAME\n",
      "    selenium.webdriver\n",
      "\n",
      "DESCRIPTION\n",
      "    # Licensed to the Software Freedom Conservancy (SFC) under one\n",
      "    # or more contributor license agreements.  See the NOTICE file\n",
      "    # distributed with this work for additional information\n",
      "    # regarding copyright ownership.  The SFC licenses this file\n",
      "    # to you under the Apache License, Version 2.0 (the\n",
      "    # \"License\"); you may not use this file except in compliance\n",
      "    # with the License.  You may obtain a copy of the License at\n",
      "    #\n",
      "    #   http://www.apache.org/licenses/LICENSE-2.0\n",
      "    #\n",
      "    # Unless required by applicable law or agreed to in writing,\n",
      "    # software distributed under the License is distributed on an\n",
      "    # \"AS IS\" BASIS, WITHOUT WARRANTIES OR CONDITIONS OF ANY\n",
      "    # KIND, either express or implied.  See the License for the\n",
      "    # specific language governing permissions and limitations\n",
      "    # under the License.\n",
      "\n",
      "PACKAGE CONTENTS\n",
      "    chrome (package)\n",
      "    chromium (package)\n",
      "    common (package)\n",
      "    edge (package)\n",
      "    firefox (package)\n",
      "    ie (package)\n",
      "    opera (package)\n",
      "    remote (package)\n",
      "    safari (package)\n",
      "    support (package)\n",
      "    webkitgtk (package)\n",
      "    wpewebkit (package)\n",
      "\n",
      "VERSION\n",
      "    4.1.3\n",
      "\n",
      "FILE\n",
      "    /Users/frankshi/miniconda3/lib/python3.8/site-packages/selenium/webdriver/__init__.py\n",
      "\n",
      "\n"
     ]
    }
   ],
   "source": [
    "help(webdriver) "
   ]
  },
  {
   "cell_type": "markdown",
   "metadata": {},
   "source": [
    "### 安装驱动\n",
    "Selenium requires a driver to interface with the chosen browser. Firefox, for example, requires geckodriver, which needs to be installed before the below examples can be run. Make sure it’s in your PATH, e. g., C:\\Users\\admin\\anaconda3. \\\n",
    "\n",
    "安装说明\\\n",
    "https://www.selenium.dev/zh-cn/documentation/webdriver/getting_started/install_drivers/ \\\n",
    "找到自己的path\\\n",
    "https://jingyan.baidu.com/article/d45ad148eb0bc228552b80c3.html \\\n",
    "建议：增加anaconda3路径到Path,将driver放进anaconda路径中"
   ]
  },
  {
   "cell_type": "code",
   "execution_count": 4,
   "metadata": {
    "ExecuteTime": {
     "end_time": "2018-04-28T03:30:53.420662Z",
     "start_time": "2018-04-28T03:30:51.213636Z"
    },
    "slideshow": {
     "slide_type": "fragment"
    }
   },
   "outputs": [
    {
     "name": "stderr",
     "output_type": "stream",
     "text": [
      "/var/folders/0d/wrwj7yfx09v64hfgjstksh4r0000gn/T/ipykernel_8352/716818735.py:2: DeprecationWarning: executable_path has been deprecated, please pass in a Service object\n",
      "  browser = webdriver.Chrome(\"/Users/frankshi/Downloads/chromedriver\") # 打开Chrome浏览器\n"
     ]
    }
   ],
   "source": [
    "#browser = webdriver.Firefox() # 打开Firefox浏览器\n",
    "browser = webdriver.Chrome(\"/Users/frankshi/Downloads/chromedriver\") # 打开Chrome浏览器"
   ]
  },
  {
   "cell_type": "markdown",
   "metadata": {},
   "source": [
    "### 如果你搞不定path，可以直接调取driver"
   ]
  },
  {
   "cell_type": "code",
   "execution_count": 13,
   "metadata": {},
   "outputs": [
    {
     "name": "stderr",
     "output_type": "stream",
     "text": [
      "C:\\Users\\admin\\AppData\\Local\\Temp/ipykernel_484/2296959398.py:1: DeprecationWarning: executable_path has been deprecated, please pass in a Service object\n",
      "  browser = webdriver.Chrome(r\"C:\\Users\\admin\\Downloads\\chromedriver_win32\\chromedriver.exe\")\n"
     ]
    }
   ],
   "source": [
    "browser = webdriver.Chrome(\"/Users/frankshi/Downloads/chromedriver\")"
   ]
  },
  {
   "cell_type": "markdown",
   "metadata": {
    "slideshow": {
     "slide_type": "slide"
    }
   },
   "source": [
    "# 访问页面"
   ]
  },
  {
   "cell_type": "code",
   "execution_count": 5,
   "metadata": {
    "ExecuteTime": {
     "end_time": "2018-04-28T03:34:39.845653Z",
     "start_time": "2018-04-28T03:34:36.306319Z"
    },
    "slideshow": {
     "slide_type": "subslide"
    }
   },
   "outputs": [
    {
     "name": "stdout",
     "output_type": "stream",
     "text": [
      "<html><head><script type=\"text/javascript\" charset=\"utf-8\" src=\"http://ss.bdimg.com/static/superman/js/components/qrcode-0e4b67354f.js\"></script><script type=\"text/javascript\" charset=\"utf-8\" src=\"http://ss.bdimg.com/static/superman/js/super_load-eb15f1e5a8.js\"></script><script type=\"text/javascript\" charset=\"utf-8\" src=\"http://ss.bdimg.com/static/superman/js/components/tips-e2ceadd14d.js\"></script><meta http-equiv=\"Content-Type\" content=\"text/html;charset=utf-8\"><meta http-equiv=\"X-UA-Compatible\" content=\"IE=edge,chrome=1\"><meta content=\"always\" name=\"referrer\"><meta name=\"theme-color\" content=\"#ffffff\"><meta name=\"description\" content=\"全球领先的中文搜索引擎、致力于让网民更便捷地获取信息，找到所求。百度超过千亿的中文网页数据库，可以瞬间找到相关的搜索结果。\"><link rel=\"shortcut icon\" href=\"/favicon.ico\" type=\"image/x-icon\"><link rel=\"search\" type=\"application/opensearchdescription+xml\" href=\"/content-search.xml\" title=\"百度搜索\"><link rel=\"icon\" sizes=\"any\" mask=\"\" href=\"//www.baidu.com/img/baidu_85beaf5496f291521eb75ba38eacbd87.svg\"><link rel=\"dns\n"
     ]
    }
   ],
   "source": [
    "browser.get(\"http://www.baidu.com\") \n",
    "print(browser.page_source[:1000])\n",
    "#browser.close() "
   ]
  },
  {
   "cell_type": "markdown",
   "metadata": {
    "slideshow": {
     "slide_type": "slide"
    }
   },
   "source": [
    "# 查找元素\n",
    "单个元素查找"
   ]
  },
  {
   "cell_type": "code",
   "execution_count": 6,
   "metadata": {
    "ExecuteTime": {
     "end_time": "2018-04-28T04:04:19.892428Z",
     "start_time": "2018-04-28T04:04:16.407618Z"
    },
    "slideshow": {
     "slide_type": "subslide"
    }
   },
   "outputs": [
    {
     "name": "stdout",
     "output_type": "stream",
     "text": [
      "中国大陆\n",
      "\n",
      "亲，请登录\n",
      "免费注册\n",
      "手机逛淘宝\n",
      "我的淘宝\n",
      "\n",
      "\n",
      "购物车\n",
      "\n",
      "收藏夹\n",
      "\n",
      "商品分类\n",
      "免费开店\n",
      "|\n",
      "千牛卖家中心\n",
      "\n",
      "联系客服\n",
      "\n",
      "中国大陆\n",
      "\n",
      "亲，请登录\n",
      "免费注册\n",
      "手机逛淘宝\n",
      "我的淘宝\n",
      "\n",
      "\n",
      "购物车\n",
      "\n",
      "收藏夹\n",
      "\n",
      "商品分类\n",
      "免费开店\n",
      "|\n",
      "千牛卖家中心\n",
      "\n",
      "联系客服\n",
      "\n",
      "中国大陆\n",
      "\n",
      "亲，请登录\n",
      "免费注册\n",
      "手机逛淘宝\n",
      "我的淘宝\n",
      "\n",
      "\n",
      "购物车\n",
      "\n",
      "收藏夹\n",
      "\n",
      "商品分类\n",
      "免费开店\n",
      "|\n",
      "千牛卖家中心\n",
      "\n",
      "联系客服\n",
      "\n"
     ]
    },
    {
     "name": "stderr",
     "output_type": "stream",
     "text": [
      "/var/folders/0d/wrwj7yfx09v64hfgjstksh4r0000gn/T/ipykernel_8352/3937788763.py:6: DeprecationWarning: find_element_by_* commands are deprecated. Please use find_element() instead\n",
      "  input_first = browser.find_element_by_id(\"J_SiteNav\").text\n",
      "/var/folders/0d/wrwj7yfx09v64hfgjstksh4r0000gn/T/ipykernel_8352/3937788763.py:7: DeprecationWarning: find_element_by_css_selector is deprecated. Please use find_element(by=By.CSS_SELECTOR, value=css_selector) instead\n",
      "  input_second = browser.find_element_by_css_selector(\"#J_SiteNav\").text\n",
      "/var/folders/0d/wrwj7yfx09v64hfgjstksh4r0000gn/T/ipykernel_8352/3937788763.py:8: DeprecationWarning: find_element_by_xpath is deprecated. Please use find_element(by=By.XPATH, value=xpath) instead\n",
      "  input_third = browser.find_element_by_xpath('//*[@id=\"J_SiteNav\"]').text\n"
     ]
    }
   ],
   "source": [
    "# from selenium import webdriver\n",
    "\n",
    "# browser = webdriver.Chrome()\n",
    "\n",
    "browser.get(\"http://www.taobao.com\")\n",
    "input_first = browser.find_element_by_id(\"J_SiteNav\").text\n",
    "input_second = browser.find_element_by_css_selector(\"#J_SiteNav\").text\n",
    "input_third = browser.find_element_by_xpath('//*[@id=\"J_SiteNav\"]').text\n",
    "print(input_first)\n",
    "print(input_second)\n",
    "print(input_third)\n"
   ]
  },
  {
   "cell_type": "markdown",
   "metadata": {
    "slideshow": {
     "slide_type": "fragment"
    }
   },
   "source": [
    "这里我们通过三种不同的方式去获取响应的元素，第一种是通过id的方式，第二个中是CSS选择器，第三种是xpath选择器，结果都是相同的。\n"
   ]
  },
  {
   "cell_type": "markdown",
   "metadata": {
    "slideshow": {
     "slide_type": "subslide"
    }
   },
   "source": [
    "## 常用的查找元素方法：\n",
    "\n",
    "- find_element_by_name\n",
    "- find_element_by_id\n",
    "- find_element_by_xpath\n",
    "- find_element_by_link_text\n",
    "- find_element_by_partial_link_text\n",
    "- find_element_by_tag_name\n",
    "- find_element_by_class_name\n",
    "- find_element_by_css_selector"
   ]
  },
  {
   "cell_type": "code",
   "execution_count": 22,
   "metadata": {
    "ExecuteTime": {
     "end_time": "2018-04-28T03:38:58.488192Z",
     "start_time": "2018-04-28T03:38:58.484902Z"
    },
    "slideshow": {
     "slide_type": "subslide"
    }
   },
   "outputs": [],
   "source": [
    "# 下面这种方式是比较通用的一种方式：这里需要记住By模块所以需要导入\n",
    "from selenium.webdriver.common.by import By"
   ]
  },
  {
   "cell_type": "code",
   "execution_count": 23,
   "metadata": {
    "ExecuteTime": {
     "end_time": "2018-04-28T03:39:11.442664Z",
     "start_time": "2018-04-28T03:39:07.749475Z"
    },
    "slideshow": {
     "slide_type": "fragment"
    }
   },
   "outputs": [
    {
     "name": "stdout",
     "output_type": "stream",
     "text": [
      "中国大陆\n",
      "\n",
      "亲，请登录\n",
      "免费注册\n",
      "手机逛淘宝\n",
      "网页无障碍\n",
      "我的淘宝\n",
      "\n",
      "\n",
      "购物车\n",
      "\n",
      "收藏夹\n",
      "\n",
      "商品分类\n",
      "免费开店\n",
      "|\n",
      "千牛卖家中心\n"
     ]
    }
   ],
   "source": [
    "browser = webdriver.Chrome()\n",
    "browser.get(\"http://www.taobao.com\")\n",
    "input_first = browser.find_element(By.ID,\"J_SiteNav\").text\n",
    "print(input_first)\n",
    "browser.close()"
   ]
  },
  {
   "cell_type": "markdown",
   "metadata": {
    "slideshow": {
     "slide_type": "subslide"
    }
   },
   "source": [
    "## 多个元素查找\n",
    "\n",
    "其实多个元素和单个元素的区别，举个例子：find_elements,单个元素是find_element,其他使用上没什么区别，通过其中的一个例子演示："
   ]
  },
  {
   "cell_type": "code",
   "execution_count": 24,
   "metadata": {
    "ExecuteTime": {
     "end_time": "2018-04-28T03:39:46.230829Z",
     "start_time": "2018-04-28T03:39:43.100998Z"
    }
   },
   "outputs": [
    {
     "name": "stdout",
     "output_type": "stream",
     "text": [
      "[<selenium.webdriver.remote.webelement.WebElement (session=\"7de82d9624f41dfae373280797ad6fae\", element=\"3c280835-5f94-4367-b40b-eff3f676ac07\")>, <selenium.webdriver.remote.webelement.WebElement (session=\"7de82d9624f41dfae373280797ad6fae\", element=\"4b4165a7-f896-4b17-a530-237f5933be2b\")>, <selenium.webdriver.remote.webelement.WebElement (session=\"7de82d9624f41dfae373280797ad6fae\", element=\"29598012-69e2-4d8a-b3be-7de982c8138a\")>, <selenium.webdriver.remote.webelement.WebElement (session=\"7de82d9624f41dfae373280797ad6fae\", element=\"8bd106b3-f8f3-4fd2-a87b-f684f3e3a270\")>, <selenium.webdriver.remote.webelement.WebElement (session=\"7de82d9624f41dfae373280797ad6fae\", element=\"7adbe863-4f9f-4eea-8776-9433bd4857b3\")>, <selenium.webdriver.remote.webelement.WebElement (session=\"7de82d9624f41dfae373280797ad6fae\", element=\"40572f8f-ef53-4b2f-b594-32135bd7d9d2\")>, <selenium.webdriver.remote.webelement.WebElement (session=\"7de82d9624f41dfae373280797ad6fae\", element=\"99568064-b3e8-40ed-8958-7d4124977a66\")>, <selenium.webdriver.remote.webelement.WebElement (session=\"7de82d9624f41dfae373280797ad6fae\", element=\"f6fa7b05-a560-4d1c-8bfc-23773a0366c8\")>, <selenium.webdriver.remote.webelement.WebElement (session=\"7de82d9624f41dfae373280797ad6fae\", element=\"d6a589ef-10be-4e30-9102-05ef7f4948ed\")>, <selenium.webdriver.remote.webelement.WebElement (session=\"7de82d9624f41dfae373280797ad6fae\", element=\"402df990-33c5-44d5-9b1c-faf5e265edbd\")>, <selenium.webdriver.remote.webelement.WebElement (session=\"7de82d9624f41dfae373280797ad6fae\", element=\"9b75e8b9-a5ce-4fb0-9576-b20d6d45fdf6\")>, <selenium.webdriver.remote.webelement.WebElement (session=\"7de82d9624f41dfae373280797ad6fae\", element=\"cdaacc90-63b9-497e-9b6e-9c34061b079e\")>, <selenium.webdriver.remote.webelement.WebElement (session=\"7de82d9624f41dfae373280797ad6fae\", element=\"9366ccd8-cab6-4200-aad1-9a1965fa41b4\")>, <selenium.webdriver.remote.webelement.WebElement (session=\"7de82d9624f41dfae373280797ad6fae\", element=\"b8e9e591-6657-4780-8cdc-83b344522908\")>, <selenium.webdriver.remote.webelement.WebElement (session=\"7de82d9624f41dfae373280797ad6fae\", element=\"3d9ed812-60c2-4955-b9a7-8861028f34dd\")>]\n"
     ]
    },
    {
     "name": "stderr",
     "output_type": "stream",
     "text": [
      "C:\\Users\\admin\\AppData\\Local\\Temp/ipykernel_484/3372098575.py:3: DeprecationWarning: find_elements_by_css_selector is deprecated. Please use find_elements(by=By.CSS_SELECTOR, value=css_selector) instead\n",
      "  lis = browser.find_elements_by_css_selector('.service-bd li')\n"
     ]
    }
   ],
   "source": [
    "##侧面分类\n",
    "browser = webdriver.Chrome()\n",
    "browser.get(\"http://www.taobao.com\")\n",
    "lis = browser.find_elements_by_css_selector('.service-bd li')\n",
    "print(lis)\n",
    "#browser.close() "
   ]
  },
  {
   "cell_type": "markdown",
   "metadata": {
    "slideshow": {
     "slide_type": "subslide"
    }
   },
   "source": [
    "当然上面的方式也是可以通过导入`from selenium.webdriver.common.by import By` 这种方式实现\n",
    "\n",
    "> lis = browser.find_elements(By.CSS_SELECTOR,'.service-bd li')\n",
    "\n",
    "同样的在单个元素中查找的方法在多个元素查找中同样存在：\n",
    "- find_elements_by_name\n",
    "- find_elements_by_id\n",
    "- find_elements_by_xpath\n",
    "- find_elements_by_link_text\n",
    "- find_elements_by_partial_link_text\n",
    "- find_elements_by_tag_name\n",
    "- find_elements_by_class_name\n",
    "- find_elements_by_css_selector"
   ]
  },
  {
   "cell_type": "markdown",
   "metadata": {
    "slideshow": {
     "slide_type": "slide"
    }
   },
   "source": [
    "## 元素交互操作\n",
    "对于获取的元素调用交互方法\\\n",
    "1. 找到搜索框； 2. 搜索框输入文字； 3. 点击搜索"
   ]
  },
  {
   "cell_type": "code",
   "execution_count": 8,
   "metadata": {
    "ExecuteTime": {
     "end_time": "2018-04-28T03:40:40.619175Z",
     "start_time": "2018-04-28T03:40:37.612416Z"
    },
    "slideshow": {
     "slide_type": "subslide"
    }
   },
   "outputs": [
    {
     "name": "stderr",
     "output_type": "stream",
     "text": [
      "/var/folders/0d/wrwj7yfx09v64hfgjstksh4r0000gn/T/ipykernel_8352/1846977664.py:4: DeprecationWarning: executable_path has been deprecated, please pass in a Service object\n",
      "  browser = webdriver.Chrome(dpath)\n"
     ]
    }
   ],
   "source": [
    "from selenium import webdriver\n",
    "import time\n",
    "dpath = \"/Users/frankshi/Downloads/chromedriver\"\n",
    "browser = webdriver.Chrome(dpath)\n",
    "browser.get(\"http://www.taobao.com\")"
   ]
  },
  {
   "cell_type": "code",
   "execution_count": 9,
   "metadata": {
    "ExecuteTime": {
     "end_time": "2018-04-28T03:41:34.993605Z",
     "start_time": "2018-04-28T03:41:28.026538Z"
    },
    "scrolled": true,
    "slideshow": {
     "slide_type": "subslide"
    }
   },
   "outputs": [
    {
     "name": "stderr",
     "output_type": "stream",
     "text": [
      "/var/folders/0d/wrwj7yfx09v64hfgjstksh4r0000gn/T/ipykernel_8352/3169536832.py:2: DeprecationWarning: find_element_by_* commands are deprecated. Please use find_element() instead\n",
      "  input_str = browser.find_element_by_id('q')\n",
      "/var/folders/0d/wrwj7yfx09v64hfgjstksh4r0000gn/T/ipykernel_8352/3169536832.py:7: DeprecationWarning: find_element_by_class_name is deprecated. Please use find_element(by=By.CLASS_NAME, value=name) instead\n",
      "  button = browser.find_element_by_class_name('btn-search')\n"
     ]
    }
   ],
   "source": [
    "#browser.get(\"http://www.taobao.com\")\n",
    "input_str = browser.find_element_by_id('q')\n",
    "input_str.send_keys(\"ipad\")\n",
    "time.sleep(3)\n",
    "input_str.clear()\n",
    "input_str.send_keys(\"MacBook pro\")\n",
    "button = browser.find_element_by_class_name('btn-search')\n",
    "button.click()"
   ]
  },
  {
   "cell_type": "markdown",
   "metadata": {
    "slideshow": {
     "slide_type": "subslide"
    }
   },
   "source": [
    "运行的结果可以看出程序会自动打开Chrome浏览器并打开淘宝输入ipad,然后删除，重新输入MacBook pro，并点击搜索\n",
    "\n",
    "Selenium所有的api文档：http://selenium-python.readthedocs.io/api.html#module-selenium.webdriver.common.action_chains"
   ]
  },
  {
   "cell_type": "markdown",
   "metadata": {
    "slideshow": {
     "slide_type": "slide"
    }
   },
   "source": [
    "## 执行JavaScript\n",
    "这是一个非常有用的方法，这里就可以直接调用js方法来实现一些操作，\n",
    "下面的例子是通过登录知乎然后通过js翻到页面底部，并弹框提示"
   ]
  },
  {
   "cell_type": "code",
   "execution_count": 10,
   "metadata": {
    "ExecuteTime": {
     "end_time": "2018-04-28T03:43:34.924181Z",
     "start_time": "2018-04-28T03:43:28.617063Z"
    },
    "slideshow": {
     "slide_type": "subslide"
    }
   },
   "outputs": [],
   "source": [
    "browser.get(\"http://www.zhihu.com/explore\")\n",
    "browser.execute_script('window.scrollTo(0, document.body.scrollHeight)')\n",
    "browser.execute_script('alert(\"To Bottom\")')"
   ]
  },
  {
   "cell_type": "markdown",
   "metadata": {
    "slideshow": {
     "slide_type": "slide"
    }
   },
   "source": [
    "### 获取元素属性\n",
    "get_attribute('class')"
   ]
  },
  {
   "cell_type": "code",
   "execution_count": 11,
   "metadata": {
    "ExecuteTime": {
     "end_time": "2018-04-28T03:45:28.053434Z",
     "start_time": "2018-04-28T03:45:24.110040Z"
    },
    "slideshow": {
     "slide_type": "subslide"
    }
   },
   "outputs": [
    {
     "name": "stdout",
     "output_type": "stream",
     "text": [
      "<selenium.webdriver.remote.webelement.WebElement (session=\"4cd9c95a190997ba0e6a947a81b482f6\", element=\"0ac41972-0e2e-4ce8-9737-9dfce705266a\")>\n",
      "ExploreHomePage-ContentSection ExploreHomePage-section\n"
     ]
    },
    {
     "name": "stderr",
     "output_type": "stream",
     "text": [
      "/var/folders/0d/wrwj7yfx09v64hfgjstksh4r0000gn/T/ipykernel_8352/1420445621.py:3: DeprecationWarning: find_element_by_* commands are deprecated. Please use find_element() instead\n",
      "  logo = browser.find_element_by_id('guestSquare')\n"
     ]
    }
   ],
   "source": [
    "##好问题广场 id = guestSquare\n",
    "browser.get(\"http://www.zhihu.com/explore\")\n",
    "logo = browser.find_element_by_id('guestSquare')\n",
    "print(logo)\n",
    "print(logo.get_attribute('class'))"
   ]
  },
  {
   "cell_type": "markdown",
   "metadata": {
    "slideshow": {
     "slide_type": "slide"
    }
   },
   "source": [
    "### 获取文本值\n",
    "text"
   ]
  },
  {
   "cell_type": "code",
   "execution_count": 15,
   "metadata": {
    "slideshow": {
     "slide_type": "subslide"
    }
   },
   "outputs": [
    {
     "name": "stderr",
     "output_type": "stream",
     "text": [
      "/var/folders/0d/wrwj7yfx09v64hfgjstksh4r0000gn/T/ipykernel_8352/1638403083.py:2: DeprecationWarning: find_element_by_class_name is deprecated. Please use find_element(by=By.CLASS_NAME, value=name) instead\n",
      "  input = browser.find_element_by_class_name('css-1g4zjtl')\n"
     ]
    },
    {
     "name": "stdout",
     "output_type": "stream",
     "text": [
      "如何看待北大文科博士在深圳大学任教经济困难，月薪1-3千，上网课都要求学校发网络补助？\n"
     ]
    }
   ],
   "source": [
    "browser.get(\"http://www.zhihu.com/explore\")\n",
    "input = browser.find_element_by_class_name('css-1g4zjtl')\n",
    "print(input.text)"
   ]
  },
  {
   "cell_type": "markdown",
   "metadata": {
    "slideshow": {
     "slide_type": "slide"
    }
   },
   "source": [
    "### 获取ID，位置，标签名\n",
    "id\n",
    "location\n",
    "tag_name\n",
    "size"
   ]
  },
  {
   "cell_type": "code",
   "execution_count": 14,
   "metadata": {
    "slideshow": {
     "slide_type": "subslide"
    }
   },
   "outputs": [
    {
     "name": "stderr",
     "output_type": "stream",
     "text": [
      "/var/folders/0d/wrwj7yfx09v64hfgjstksh4r0000gn/T/ipykernel_8352/104505733.py:2: DeprecationWarning: find_element_by_class_name is deprecated. Please use find_element(by=By.CLASS_NAME, value=name) instead\n",
      "  input = browser.find_element_by_class_name('css-1g4zjtl')\n"
     ]
    },
    {
     "name": "stdout",
     "output_type": "stream",
     "text": [
      "e90801ff-0ed0-4fe7-a931-ba539a46aea1\n",
      "{'x': 550, 'y': 250}\n",
      "div\n",
      "{'height': 21, 'width': 442}\n"
     ]
    }
   ],
   "source": [
    "browser.get(\"http://www.zhihu.com/explore\")\n",
    "input = browser.find_element_by_class_name('css-1g4zjtl')\n",
    "print(input.id)\n",
    "print(input.location)\n",
    "print(input.tag_name)\n",
    "print(input.size)"
   ]
  },
  {
   "cell_type": "markdown",
   "metadata": {},
   "source": [
    "#### In-class exercise:\n",
    "- 使用模拟浏览器方法打开微博热搜榜网页“https://weibo.com/newlogin?tabtype=search&url=https%3A%2F%2Fwww.weibo.com%2Ftabtype%3Dsearch”\n",
    "- 获取首页热搜标题，print出来"
   ]
  },
  {
   "cell_type": "code",
   "execution_count": 17,
   "metadata": {},
   "outputs": [],
   "source": [
    "## for your exercise\n",
    "browser.get(\"https://weibo.com/newlogin?tabtype=search&url=https%3A%2F%2Fwww.weibo.com%2Ftabtype%3Dsearch%E2%80%9D\")\n"
   ]
  },
  {
   "cell_type": "code",
   "execution_count": 21,
   "metadata": {},
   "outputs": [
    {
     "name": "stdout",
     "output_type": "stream",
     "text": [
      "[<selenium.webdriver.remote.webelement.WebElement (session=\"4cd9c95a190997ba0e6a947a81b482f6\", element=\"a0bd9992-7d0a-4857-a7bf-53a0742287d3\")>, <selenium.webdriver.remote.webelement.WebElement (session=\"4cd9c95a190997ba0e6a947a81b482f6\", element=\"01068efd-4fab-415d-9455-010a85ffe29f\")>, <selenium.webdriver.remote.webelement.WebElement (session=\"4cd9c95a190997ba0e6a947a81b482f6\", element=\"73754376-59fe-4d27-bf44-481d50d8c38e\")>, <selenium.webdriver.remote.webelement.WebElement (session=\"4cd9c95a190997ba0e6a947a81b482f6\", element=\"2e0119f2-4b07-4d24-aa12-d68d48489ac2\")>, <selenium.webdriver.remote.webelement.WebElement (session=\"4cd9c95a190997ba0e6a947a81b482f6\", element=\"e16b3be9-828b-459c-a6cf-f3291de04218\")>, <selenium.webdriver.remote.webelement.WebElement (session=\"4cd9c95a190997ba0e6a947a81b482f6\", element=\"ae10c156-99b7-4db0-90ba-0e4c14bf33a2\")>]\n",
      "加强民航安全隐患排查\n",
      "受降雨影响MU5735搜救暂缓\n",
      "上海收发快递正常\n",
      "新冠病毒抗原检测临时性纳入医保\n",
      "400多万粉丝私募大V凉了\n",
      "四川大学 防疫\n"
     ]
    },
    {
     "name": "stderr",
     "output_type": "stream",
     "text": [
      "/var/folders/0d/wrwj7yfx09v64hfgjstksh4r0000gn/T/ipykernel_8352/932385973.py:1: DeprecationWarning: find_elements_by_class_name is deprecated. Please use find_elements(by=By.CLASS_NAME, value=name) instead\n",
      "  titles = browser.find_elements_by_class_name(\"HotTopic_tit_eS4fv\")\n"
     ]
    }
   ],
   "source": [
    "titles = browser.find_elements_by_class_name(\"HotTopic_tit_eS4fv\")\n",
    "print(titles)\n",
    "for t in titles:\n",
    "    print(t.text)"
   ]
  },
  {
   "cell_type": "markdown",
   "metadata": {},
   "source": [
    "## 移动端数据抓取\n",
    "\n",
    "- 如果app有网页端入口，爬取网页端数据，如douyin（https://www.douyin.com/video/7075248517970775304）\n",
    "- 使用手机抓包工具（AnyProxy，Fiddler， Charles），类似于发request的粗暴方法\n",
    "- app本身https加密，安卓模拟浏览器（Nox夜神模拟器等）+ 手机抓包工具（AnyProxy，Fiddler， Charles）\n",
    "- app本身request数据包加密，需要破解数据包（已经涉及到app安全）"
   ]
  },
  {
   "cell_type": "markdown",
   "metadata": {},
   "source": [
    "## 数据安全和隐私问题\n",
    "- 爬虫本身不违法，将爬取数据商业化，违法\n",
    "- 破解及修改平台、软件、游戏，\n",
    "- 个人隐私数据抓取与贩卖，违法\n",
    "- 可识别用户身份信息应妥善存储和公开，如隐私数据加密处理等\n",
    "- 《中华人民共和国个人信息保护法》于2021年11月1日正式实施、《中华人民共和国数据安全法》于2021年9月1日正式施行"
   ]
  },
  {
   "cell_type": "markdown",
   "metadata": {},
   "source": [
    "## 国内相关法律条文\n",
    "- 非法获取计算机系统数据罪\n",
    "- 根据《中华人民共和国刑法》第二百八十五条规定，非法获取计算机信息系统数据、非法控制计算机信息系统罪，是指违反国家规定，侵入国家事务、国防建设、尖端科学技术领域以外的计算机信息系统或者采用其他技术手段，获取该计算机信息系统中存储、处理或者传输的数据，情节严重的行为。刑法第285条第2款明确规定，犯本罪的，处三年以下有期徒刑或者拘役，并处或者单处罚金；情节特别严重的，处三年以上七年以下有期徒刑，并处罚金。\n",
    "- 网络安全法\n",
    "- 《网络安全法》第四十四条 任何个人和组织不得窃取或者以其他非法方式获取个人信息。因此，如果爬虫在未经用户同意的情况下大量抓取用户的个人信息，则有可能构成非法收集个人信息的违法行为。\n",
    "- 数据安全法\n",
    "- 《数据安全法》第三十二条　任何组织、个人收集数据，应当采取合法、正当的方式，不得窃取或者以其他非法方式获取数据。法律、行政法规对收集、使用数据的目的、范围有规定的，应当在法律、行政法规规定的目的和范围内收集、使用数据。\n",
    "- 侵犯公民个人信息罪\n",
    "- 《刑法》修正案（九）中将刑法第二百五十三条进行了修订，明确规定违反国家有关规定，向他人出售或者提供公民个人信息，情节严重的，构成犯罪；在未经用户许可的情况下，非法获取用户的个人信息，情节严重的也将构成“侵犯公民个人信息罪”。根据《最高人民法院 最高人民检察院关于办理侵犯公民个人信息刑事案件适用法律若干问题的解释》第五条规定，对“情节严重”的解释，（1）非法获取、出售或者提供行踪轨迹信息、通信内容、征信信息、财产信息五十条以上的；（2）非法获取、出售或者提供住宿信息、通信记录、健康生理信息、交易信息等其他可能影响人身、财产安全的公民个人信息五百条以上的；（3）非法获取、出售或者提供第三项、第四项规定以外的公民个人信息五千条以上的便构成“侵犯公民个人信息罪”所要求的“情节严重”。\n"
   ]
  }
 ],
 "metadata": {
  "celltoolbar": "Slideshow",
  "kernelspec": {
   "display_name": "Python 3 (ipykernel)",
   "language": "python",
   "name": "python3"
  },
  "language_info": {
   "codemirror_mode": {
    "name": "ipython",
    "version": 3
   },
   "file_extension": ".py",
   "mimetype": "text/x-python",
   "name": "python",
   "nbconvert_exporter": "python",
   "pygments_lexer": "ipython3",
   "version": "3.8.8"
  },
  "latex_envs": {
   "bibliofile": "biblio.bib",
   "cite_by": "apalike",
   "current_citInitial": 1,
   "eqLabelWithNumbers": true,
   "eqNumInitial": 0
  },
  "toc": {
   "base_numbering": 1,
   "nav_menu": {},
   "number_sections": false,
   "sideBar": false,
   "skip_h1_title": false,
   "title_cell": "Table of Contents",
   "title_sidebar": "Contents",
   "toc_cell": false,
   "toc_position": {
    "height": "647px",
    "left": "1361px",
    "top": "123px",
    "width": "340px"
   },
   "toc_section_display": false,
   "toc_window_display": true
  }
 },
 "nbformat": 4,
 "nbformat_minor": 1
}

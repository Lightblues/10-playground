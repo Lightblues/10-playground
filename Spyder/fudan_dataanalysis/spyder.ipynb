{
 "cells": [
  {
   "cell_type": "code",
   "execution_count": 1,
   "metadata": {},
   "outputs": [],
   "source": [
    "import requests"
   ]
  },
  {
   "cell_type": "code",
   "execution_count": null,
   "metadata": {},
   "outputs": [],
   "source": [
    "ddir = \"./results\""
   ]
  },
  {
   "cell_type": "markdown",
   "metadata": {},
   "source": [
    "## 复旦专业目录"
   ]
  },
  {
   "cell_type": "code",
   "execution_count": 5,
   "metadata": {},
   "outputs": [],
   "source": [
    "# Fudan 专业目录 https://gsas.fudan.edu.cn/sszsml2022/index.html \n",
    "data_url = \"https://gsas.fudan.edu.cn/sszsml2022/js/data.js?v=1636982382000\"\n",
    "s = requests.session()\n",
    "data = s.get(data_url).content"
   ]
  },
  {
   "cell_type": "code",
   "execution_count": 7,
   "metadata": {},
   "outputs": [
    {
     "data": {
      "text/plain": [
       "'var treeData = {\"text\":\"复旦大学\",\"value\":\"0\",\"items\":[{\"text\":\"001 马克思主义学院\",\"value\":\"001\",\"YXSH\":\"001\",'"
      ]
     },
     "execution_count": 7,
     "metadata": {},
     "output_type": "execute_result"
    }
   ],
   "source": [
    "data.decode('utf-8')[:100]"
   ]
  },
  {
   "cell_type": "code",
   "execution_count": 12,
   "metadata": {},
   "outputs": [],
   "source": [
    "# parts = data.decode('utf-8').split(\"=\")\n",
    "# parts"
   ]
  },
  {
   "cell_type": "code",
   "execution_count": 13,
   "metadata": {},
   "outputs": [],
   "source": [
    "with open(f'{ddir}/fudan-major.js', 'w') as f:\n",
    "    f.write(data.decode('utf-8'))"
   ]
  },
  {
   "cell_type": "code",
   "execution_count": 20,
   "metadata": {},
   "outputs": [],
   "source": [
    "import json\n",
    "tree_data = json.load(open(f'{ddir}/tree-data.json', 'r'))\n",
    "main_data = json.load(open(f'{ddir}/main-data.json', 'r'))"
   ]
  },
  {
   "cell_type": "code",
   "execution_count": 21,
   "metadata": {},
   "outputs": [
    {
     "data": {
      "text/plain": [
       "(dict_keys(['mllb_12']), dict_keys(['text', 'value', 'items']))"
      ]
     },
     "execution_count": 21,
     "metadata": {},
     "output_type": "execute_result"
    }
   ],
   "source": [
    "tree_data.keys(), main_data.keys()"
   ]
  },
  {
   "cell_type": "markdown",
   "metadata": {},
   "source": [
    "等级\n",
    "\n",
    "- YXSH 学院代码？\n",
    "\n",
    "tree 表\n",
    "\n",
    "- 学院级别；\n",
    "  - yxmc 学院名         古籍整理研究所（中国古代文学研究中心）\n",
    "  - yxsh 院系代码        010\n",
    "  - ZsmlYxZys 专业      \n",
    "    - zymc 专业名       中国语言文学\n",
    "    - zydm 专业代码      050100\n",
    "    - yxsh 所属院系      010\n",
    "    - ZsmlYxZyYjfx 研究方向\n",
    "      - fxmc 方向名称   汉语言文字学\n",
    "      - yxsh 院系       010\n",
    "      - zydm 专业代码   050100"
   ]
  },
  {
   "cell_type": "code",
   "execution_count": 25,
   "metadata": {},
   "outputs": [
    {
     "data": {
      "text/plain": [
       "{'name': '语言学及应用语言学',\n",
       " 'code': '050102',\n",
       " 'number': '10',\n",
       " 'yx': '中国语言文学系',\n",
       " 'fx': [['理论语言学', '3年'],\n",
       "  ['文化语言学', '3年'],\n",
       "  ['应用语言学', '3年'],\n",
       "  ['社会语言及方言学', '3年'],\n",
       "  ['言语听力科学', '3年'],\n",
       "  ['对外汉语教学', '3年']]}"
      ]
     },
     "execution_count": 25,
     "metadata": {},
     "output_type": "execute_result"
    }
   ],
   "source": [
    "yx_dict = {}\n",
    "zy_dict = {}\n",
    "\n",
    "for yx in tree_data['mllb_12']:\n",
    "    yx_code = yx['yxsh']\n",
    "    yx_name = yx['yxmc']\n",
    "    yx_tel = yx['tel']\n",
    "    yx_enroll_number = yx['zszrs']  # 招生总人数\n",
    "    yx_dict[yx_code] = {\n",
    "        \"name\": yx_name,\n",
    "        \"code\": yx_code,\n",
    "        \"tel\": yx_tel,\n",
    "        \"number\": yx_enroll_number\n",
    "    }\n",
    "    for zy in yx[\"exportZsmlYxZys\"]:\n",
    "        zy_code = zy[\"zydm\"]\n",
    "        zy_name = zy['zymc']\n",
    "        zy_belong = zy['yxsh']\n",
    "        zy_enroll_number = zy['zsrs']\n",
    "        zy_fx = []      # 专业方向\n",
    "        for fx in zy['exportZsmlYxZyYjfxs']:\n",
    "            zy_fx.append([fx['fxmc'], fx['xzmc']])\n",
    "        zy_dict[zy_name] = {\n",
    "            \"name\": zy_name,\n",
    "            \"code\": zy_code,\n",
    "            \"number\": zy_enroll_number,\n",
    "            \"yx\": yx_dict[zy_belong]['name'],\n",
    "            \"fx\": zy_fx\n",
    "        }\n",
    "\n",
    "zy_dict['语言学及应用语言学']"
   ]
  },
  {
   "cell_type": "code",
   "execution_count": 28,
   "metadata": {},
   "outputs": [],
   "source": [
    "json.dump(zy_dict, open(f\"{ddir}/fudan_majors.json\", 'w'), ensure_ascii=False)"
   ]
  },
  {
   "cell_type": "markdown",
   "metadata": {},
   "source": [
    "## QS排名地址"
   ]
  },
  {
   "cell_type": "code",
   "execution_count": 29,
   "metadata": {},
   "outputs": [],
   "source": [
    "# https://www.qschina.cn/university-rankings/world-university-rankings/2022\n",
    "data_url = \"https://www.qschina.cn/sites/default/files/qs-rankings-data/cn/2122636_indicators.txt\"\n",
    "s = requests.session()\n",
    "data = s.get(data_url).content"
   ]
  },
  {
   "cell_type": "code",
   "execution_count": 45,
   "metadata": {},
   "outputs": [
    {
     "name": "stderr",
     "output_type": "stream",
     "text": [
      "<ipython-input-45-3eda383fbef0>:2: DeprecationWarning: invalid escape sequence '\\/'\n",
      "  f.write(data.decode('unicode-escape'))\n"
     ]
    }
   ],
   "source": [
    "with open(f'{ddir}/qs-2020.json', 'w') as f:\n",
    "    f.write(data.decode('unicode-escape'))      # 会把 \"ind_76\": \"<div class=\\\"td-wrap\\\"><div class=\\\"td-wrap-in\\\">100<\\/div><\\/div>\", 里面的 \\ 删去"
   ]
  },
  {
   "cell_type": "code",
   "execution_count": 43,
   "metadata": {},
   "outputs": [
    {
     "data": {
      "text/plain": [
       "'杜伊斯堡-埃森大学'"
      ]
     },
     "execution_count": 43,
     "metadata": {},
     "output_type": "execute_result"
    }
   ],
   "source": [
    "b'\\u675c\\u4f0a\\u65af\\u5821-\\u57c3\\u68ee\\u5927\\u5b66'.decode('unicode-escape')"
   ]
  },
  {
   "cell_type": "code",
   "execution_count": 49,
   "metadata": {},
   "outputs": [],
   "source": [
    "with open(f'{ddir}/qs-2020-raw.json', 'w') as f:\n",
    "    f.write(data.decode())      # 保存为raw"
   ]
  },
  {
   "cell_type": "code",
   "execution_count": 84,
   "metadata": {},
   "outputs": [],
   "source": [
    "data_list = json.loads(data.decode())[\"data\"]"
   ]
  },
  {
   "cell_type": "code",
   "execution_count": null,
   "metadata": {},
   "outputs": [],
   "source": []
  },
  {
   "cell_type": "markdown",
   "metadata": {},
   "source": [
    "### 测试 RT"
   ]
  },
  {
   "cell_type": "code",
   "execution_count": 61,
   "metadata": {},
   "outputs": [
    {
     "data": {
      "text/plain": [
       "'<div class=\"td-wrap\"><div class=\"td-wrap-in\"><a href=\"\\\\/universities\\\\/chung-yuan-christian-university\" class=\"uni-link\">中原基督教大学<\\\\/a><\\\\/div><\\\\/div>'"
      ]
     },
     "execution_count": 61,
     "metadata": {},
     "output_type": "execute_result"
    }
   ],
   "source": [
    "uni = \"<div class=\\\"td-wrap\\\"><div class=\\\"td-wrap-in\\\"><a href=\\\"\\/universities\\/chung-yuan-christian-university\\\" class=\\\"uni-link\\\">\\u4e2d\\u539f\\u57fa\\u7763\\u6559\\u5927\\u5b66<\\/a><\\/div><\\/div>\"\n",
    "uni"
   ]
  },
  {
   "cell_type": "code",
   "execution_count": 60,
   "metadata": {},
   "outputs": [
    {
     "data": {
      "text/plain": [
       "'<div class=\"td-wrap\"><div class=\"td-wrap-in\"><a href=\"/universities/chung-yuan-christian-university\" class=\"uni-link\">中原基督教大学</a></div></div>'"
      ]
     },
     "execution_count": 60,
     "metadata": {},
     "output_type": "execute_result"
    }
   ],
   "source": [
    "uni.replace(\"\\\\\", \"\")"
   ]
  },
  {
   "cell_type": "code",
   "execution_count": 81,
   "metadata": {},
   "outputs": [],
   "source": [
    "import xml.etree.ElementTree as ET\n",
    "tree = ET.fromstring(uni.replace(\"\\\\\", \"\"))"
   ]
  },
  {
   "cell_type": "code",
   "execution_count": 82,
   "metadata": {},
   "outputs": [
    {
     "data": {
      "text/plain": [
       "('a',\n",
       " '中原基督教大学',\n",
       " {'href': '/universities/chung-yuan-christian-university',\n",
       "  'class': 'uni-link'})"
      ]
     },
     "execution_count": 82,
     "metadata": {},
     "output_type": "execute_result"
    }
   ],
   "source": [
    "tree[0][0].tag, tree[0][0].text, tree[0][0].attrib"
   ]
  },
  {
   "cell_type": "markdown",
   "metadata": {},
   "source": [
    "### 抽取"
   ]
  },
  {
   "cell_type": "code",
   "execution_count": 83,
   "metadata": {},
   "outputs": [],
   "source": [
    "import xml.etree.ElementTree as ET\n",
    "def ext_name(uni_str):\n",
    "    root = ET.fromstring(uni_str.replace(\"\\\\\", \"\"))\n",
    "    a = root[0][0]\n",
    "    name = a.text\n",
    "    url = a.attrib[\"href\"].split(\"/\")[-1]\n",
    "    return name, url\n"
   ]
  },
  {
   "cell_type": "code",
   "execution_count": 86,
   "metadata": {},
   "outputs": [
    {
     "data": {
      "text/plain": [
       "{'name': '蒂宾根大学',\n",
       " 'rank': 178,\n",
       " 'url': 'eberhard-karls-universitat-tubingen',\n",
       " 'region': 'Europe',\n",
       " 'location': 'Germany'}"
      ]
     },
     "execution_count": 86,
     "metadata": {},
     "output_type": "execute_result"
    }
   ],
   "source": [
    "qs_dict = {}\n",
    "for university in data_list:\n",
    "    u_rank = int(university['overall_rank'])\n",
    "    u_name, u_url = ext_name(university[\"uni\"])\n",
    "    qs_dict[u_name] = {\n",
    "        \"name\": u_name,\n",
    "        \"rank\": u_rank,\n",
    "        \"url\": u_url, \n",
    "        \"region\": university['region'],\n",
    "        \"location\": university['location'],\n",
    "    }\n",
    "qs_dict[\"蒂宾根大学\"]"
   ]
  },
  {
   "cell_type": "code",
   "execution_count": 87,
   "metadata": {},
   "outputs": [],
   "source": [
    "json.dump(qs_dict, open(f\"{ddir}/qs-2022.json\", 'w'), ensure_ascii=False)"
   ]
  },
  {
   "cell_type": "code",
   "execution_count": null,
   "metadata": {},
   "outputs": [],
   "source": []
  }
 ],
 "metadata": {
  "interpreter": {
   "hash": "31f2aee4e71d21fbe5cf8b01ff0e069b9275f58929596ceb00d14d90e3e16cd6"
  },
  "kernelspec": {
   "display_name": "Python 3.6.9 64-bit",
   "language": "python",
   "name": "python3"
  },
  "language_info": {
   "codemirror_mode": {
    "name": "ipython",
    "version": 3
   },
   "file_extension": ".py",
   "mimetype": "text/x-python",
   "name": "python",
   "nbconvert_exporter": "python",
   "pygments_lexer": "ipython3",
   "version": "3.9.1"
  },
  "orig_nbformat": 4
 },
 "nbformat": 4,
 "nbformat_minor": 2
}
